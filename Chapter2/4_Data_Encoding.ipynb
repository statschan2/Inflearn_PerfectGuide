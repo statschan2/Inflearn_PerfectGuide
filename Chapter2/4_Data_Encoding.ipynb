{
 "cells": [
  {
   "cell_type": "markdown",
   "id": "7155faf4",
   "metadata": {},
   "source": [
    "# Label Encoding"
   ]
  },
  {
   "cell_type": "code",
   "execution_count": 5,
   "id": "6caeeaae",
   "metadata": {},
   "outputs": [
    {
     "name": "stdout",
     "output_type": "stream",
     "text": [
      "인코딩 변환값 : [3 0 2 1 1]\n",
      "\n",
      "인코딩 클래스 : ['꼬북칩' '초코파이' '허니버터칩' '홈런볼']\n",
      "\n",
      "디코딩 원본값 : ['홈런볼' '꼬북칩' '허니버터칩' '초코파이' '초코파이']\n"
     ]
    }
   ],
   "source": [
    "# Label Encoding\n",
    "from sklearn.preprocessing import LabelEncoder\n",
    "# Feature\n",
    "products = ['홈런볼','꼬북칩','허니버터칩','초코파이','초코파이']\n",
    "# Encoding\n",
    "l_encoder = LabelEncoder()\n",
    "l_encoder.fit(products)\n",
    "labels = l_encoder.transform(products)\n",
    "# 결과 확인\n",
    "print('인코딩 변환값 :',labels)\n",
    "print('\\n인코딩 클래스 :',l_encoder.classes_)\n",
    "print('\\n디코딩 원본값 :',l_encoder.inverse_transform([3,0,2,1,1]))"
   ]
  },
  {
   "cell_type": "markdown",
   "id": "4ee67aa7",
   "metadata": {},
   "source": [
    "# One-Hot Encoding"
   ]
  },
  {
   "cell_type": "code",
   "execution_count": 8,
   "id": "d38d079f",
   "metadata": {},
   "outputs": [
    {
     "name": "stdout",
     "output_type": "stream",
     "text": [
      "One-Hot 인코딩 데이터\n",
      "[[0. 0. 0. 1.]\n",
      " [1. 0. 0. 0.]\n",
      " [0. 0. 1. 0.]\n",
      " [0. 1. 0. 0.]\n",
      " [0. 1. 0. 0.]]\n",
      "\n",
      "One-Hot 인코딩 데이터 차원\n",
      "(5, 4)\n"
     ]
    }
   ],
   "source": [
    "# One-Hot Encoding\n",
    "from sklearn.preprocessing import OneHotEncoder\n",
    "# Numpy\n",
    "import numpy as np\n",
    "# 2차원 ndarray 변환\n",
    "products = np.array(products).reshape(-1,1)\n",
    "# Encoding\n",
    "oh_encoder = OneHotEncoder()\n",
    "oh_encoder.fit(products)\n",
    "oh_labels = oh_encoder.transform(products)\n",
    "# 결과 확인\n",
    "print('One-Hot 인코딩 데이터')\n",
    "print(oh_labels.toarray())\n",
    "print('\\nOne-Hot 인코딩 데이터 차원')\n",
    "print(oh_labels.shape)"
   ]
  },
  {
   "cell_type": "markdown",
   "id": "822b29ed",
   "metadata": {},
   "source": [
    "# get_dummies()"
   ]
  },
  {
   "cell_type": "code",
   "execution_count": 9,
   "id": "65c6def3",
   "metadata": {},
   "outputs": [
    {
     "data": {
      "text/html": [
       "<div>\n",
       "<style scoped>\n",
       "    .dataframe tbody tr th:only-of-type {\n",
       "        vertical-align: middle;\n",
       "    }\n",
       "\n",
       "    .dataframe tbody tr th {\n",
       "        vertical-align: top;\n",
       "    }\n",
       "\n",
       "    .dataframe thead th {\n",
       "        text-align: right;\n",
       "    }\n",
       "</style>\n",
       "<table border=\"1\" class=\"dataframe\">\n",
       "  <thead>\n",
       "    <tr style=\"text-align: right;\">\n",
       "      <th></th>\n",
       "      <th>products_꼬북칩</th>\n",
       "      <th>products_초코파이</th>\n",
       "      <th>products_허니버터칩</th>\n",
       "      <th>products_홈런볼</th>\n",
       "    </tr>\n",
       "  </thead>\n",
       "  <tbody>\n",
       "    <tr>\n",
       "      <th>0</th>\n",
       "      <td>0</td>\n",
       "      <td>0</td>\n",
       "      <td>0</td>\n",
       "      <td>1</td>\n",
       "    </tr>\n",
       "    <tr>\n",
       "      <th>1</th>\n",
       "      <td>1</td>\n",
       "      <td>0</td>\n",
       "      <td>0</td>\n",
       "      <td>0</td>\n",
       "    </tr>\n",
       "    <tr>\n",
       "      <th>2</th>\n",
       "      <td>0</td>\n",
       "      <td>0</td>\n",
       "      <td>1</td>\n",
       "      <td>0</td>\n",
       "    </tr>\n",
       "    <tr>\n",
       "      <th>3</th>\n",
       "      <td>0</td>\n",
       "      <td>1</td>\n",
       "      <td>0</td>\n",
       "      <td>0</td>\n",
       "    </tr>\n",
       "    <tr>\n",
       "      <th>4</th>\n",
       "      <td>0</td>\n",
       "      <td>1</td>\n",
       "      <td>0</td>\n",
       "      <td>0</td>\n",
       "    </tr>\n",
       "  </tbody>\n",
       "</table>\n",
       "</div>"
      ],
      "text/plain": [
       "   products_꼬북칩  products_초코파이  products_허니버터칩  products_홈런볼\n",
       "0             0              0               0             1\n",
       "1             1              0               0             0\n",
       "2             0              0               1             0\n",
       "3             0              1               0             0\n",
       "4             0              1               0             0"
      ]
     },
     "execution_count": 9,
     "metadata": {},
     "output_type": "execute_result"
    }
   ],
   "source": [
    "# Pandas\n",
    "import pandas as pd\n",
    "# get_dummies()\n",
    "df = pd.DataFrame({'products' : ['홈런볼','꼬북칩','허니버터칩','초코파이','초코파이']})\n",
    "pd.get_dummies(df)"
   ]
  }
 ],
 "metadata": {
  "kernelspec": {
   "display_name": "Python 3 (ipykernel)",
   "language": "python",
   "name": "python3"
  },
  "language_info": {
   "codemirror_mode": {
    "name": "ipython",
    "version": 3
   },
   "file_extension": ".py",
   "mimetype": "text/x-python",
   "name": "python",
   "nbconvert_exporter": "python",
   "pygments_lexer": "ipython3",
   "version": "3.9.12"
  }
 },
 "nbformat": 4,
 "nbformat_minor": 5
}
