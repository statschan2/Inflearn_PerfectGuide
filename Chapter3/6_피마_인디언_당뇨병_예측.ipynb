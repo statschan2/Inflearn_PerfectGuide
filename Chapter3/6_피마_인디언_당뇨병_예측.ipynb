{
 "cells": [
  {
   "cell_type": "markdown",
   "id": "93498c54",
   "metadata": {},
   "source": [
    "# 패키지"
   ]
  },
  {
   "cell_type": "code",
   "execution_count": 14,
   "id": "0a0fb4cd",
   "metadata": {},
   "outputs": [],
   "source": [
    "import numpy as np\n",
    "import pandas as pd\n",
    "import matplotlib.pyplot as plt\n",
    "%matplotlib inline\n",
    "# 데이터 스케일링\n",
    "from sklearn.preprocessing import StandardScaler\n",
    "# 데이터 분할\n",
    "from sklearn.model_selection import train_test_split\n",
    "# Logistic Regression\n",
    "from sklearn.linear_model import LogisticRegression as LR\n",
    "# 성능 평가\n",
    "from sklearn.metrics import accuracy_score, precision_score, recall_score, roc_auc_score\n",
    "from sklearn.metrics import f1_score, confusion_matrix, precision_recall_curve, roc_curve"
   ]
  },
  {
   "cell_type": "markdown",
   "id": "f3670219",
   "metadata": {},
   "source": [
    "# 데이터"
   ]
  },
  {
   "cell_type": "code",
   "execution_count": 3,
   "id": "95d42a51",
   "metadata": {},
   "outputs": [
    {
     "data": {
      "text/plain": [
       "0    500\n",
       "1    268\n",
       "Name: Outcome, dtype: int64"
      ]
     },
     "execution_count": 3,
     "metadata": {},
     "output_type": "execute_result"
    }
   ],
   "source": [
    "df_raw = pd.read_csv('./diabetes.csv')\n",
    "import copy\n",
    "df = copy.deepcopy(df_raw)\n",
    "df['Outcome'].value_counts()"
   ]
  },
  {
   "cell_type": "markdown",
   "id": "0fd1800f",
   "metadata": {},
   "source": [
    "# 성능 평가 함수"
   ]
  },
  {
   "cell_type": "code",
   "execution_count": 20,
   "id": "643af573",
   "metadata": {},
   "outputs": [],
   "source": [
    "# 성능 평가\n",
    "def clf_eval(Y_test, y_pred = None, y_pred_proba = None) :\n",
    "    cm = confusion_matrix(Y_test, y_pred)\n",
    "    accuracy = accuracy_score(Y_test, y_pred)\n",
    "    precision = precision_score(Y_test, y_pred)\n",
    "    recall = recall_score(Y_test, y_pred)\n",
    "    f1 = f1_score(Y_test, y_pred)\n",
    "    roc_auc = roc_auc_score(Y_test, y_pred_proba)\n",
    "    # 결과 출력\n",
    "    print('오차행렬\\n', cm)\n",
    "    print('\\n정확도 : {:.4f}\\n정밀도 : {:.4f}\\n재현율 : {:.4f}\\nF1 : {:.4f}\\nAUC : {:.4f}'.format(accuracy, precision, recall, f1, roc_auc))\n",
    "\n",
    "# roc_curve\n",
    "def roc_curve_plot(Y_test, pred_proba_class1) :\n",
    "    # TPR, FPR 값 반환\n",
    "    fprs, tprs, thresholds = roc_curve(Y_test, pred_proba_class1)\n",
    "    # ROC curve\n",
    "    plt.plot(fprs, tprs, label = 'ROC')\n",
    "    # 가운데 점선\n",
    "    plt.plot([0,1],[0,1], 'k--', label = 'Random')\n",
    "    # X 축 Scale 0.1 단위로 조정\n",
    "    start, end = plt.xlim()\n",
    "    plt.xticks(np.round(np.arange(start, end, 0.1),2))\n",
    "    plt.xlim(0,1);plt.ylim(0,1)\n",
    "    # X,Y 축 이름\n",
    "    plt.xlabel('FPR( 1 - Sensitivity )');plt.ylabel('TPR( Recall )')\n",
    "    # 그래프 출력\n",
    "    plt.legend();plt.show()    "
   ]
  },
  {
   "cell_type": "markdown",
   "id": "84b4a499",
   "metadata": {},
   "source": [
    "# 데이터 분할"
   ]
  },
  {
   "cell_type": "code",
   "execution_count": 21,
   "id": "00689b54",
   "metadata": {},
   "outputs": [
    {
     "data": {
      "text/html": [
       "<div>\n",
       "<style scoped>\n",
       "    .dataframe tbody tr th:only-of-type {\n",
       "        vertical-align: middle;\n",
       "    }\n",
       "\n",
       "    .dataframe tbody tr th {\n",
       "        vertical-align: top;\n",
       "    }\n",
       "\n",
       "    .dataframe thead th {\n",
       "        text-align: right;\n",
       "    }\n",
       "</style>\n",
       "<table border=\"1\" class=\"dataframe\">\n",
       "  <thead>\n",
       "    <tr style=\"text-align: right;\">\n",
       "      <th></th>\n",
       "      <th>Pregnancies</th>\n",
       "      <th>Glucose</th>\n",
       "      <th>BloodPressure</th>\n",
       "      <th>SkinThickness</th>\n",
       "      <th>Insulin</th>\n",
       "      <th>BMI</th>\n",
       "      <th>DiabetesPedigreeFunction</th>\n",
       "      <th>Age</th>\n",
       "      <th>Outcome</th>\n",
       "    </tr>\n",
       "  </thead>\n",
       "  <tbody>\n",
       "    <tr>\n",
       "      <th>0</th>\n",
       "      <td>6</td>\n",
       "      <td>148</td>\n",
       "      <td>72</td>\n",
       "      <td>35</td>\n",
       "      <td>0</td>\n",
       "      <td>33.6</td>\n",
       "      <td>0.627</td>\n",
       "      <td>50</td>\n",
       "      <td>1</td>\n",
       "    </tr>\n",
       "    <tr>\n",
       "      <th>1</th>\n",
       "      <td>1</td>\n",
       "      <td>85</td>\n",
       "      <td>66</td>\n",
       "      <td>29</td>\n",
       "      <td>0</td>\n",
       "      <td>26.6</td>\n",
       "      <td>0.351</td>\n",
       "      <td>31</td>\n",
       "      <td>0</td>\n",
       "    </tr>\n",
       "    <tr>\n",
       "      <th>2</th>\n",
       "      <td>8</td>\n",
       "      <td>183</td>\n",
       "      <td>64</td>\n",
       "      <td>0</td>\n",
       "      <td>0</td>\n",
       "      <td>23.3</td>\n",
       "      <td>0.672</td>\n",
       "      <td>32</td>\n",
       "      <td>1</td>\n",
       "    </tr>\n",
       "    <tr>\n",
       "      <th>3</th>\n",
       "      <td>1</td>\n",
       "      <td>89</td>\n",
       "      <td>66</td>\n",
       "      <td>23</td>\n",
       "      <td>94</td>\n",
       "      <td>28.1</td>\n",
       "      <td>0.167</td>\n",
       "      <td>21</td>\n",
       "      <td>0</td>\n",
       "    </tr>\n",
       "    <tr>\n",
       "      <th>4</th>\n",
       "      <td>0</td>\n",
       "      <td>137</td>\n",
       "      <td>40</td>\n",
       "      <td>35</td>\n",
       "      <td>168</td>\n",
       "      <td>43.1</td>\n",
       "      <td>2.288</td>\n",
       "      <td>33</td>\n",
       "      <td>1</td>\n",
       "    </tr>\n",
       "  </tbody>\n",
       "</table>\n",
       "</div>"
      ],
      "text/plain": [
       "   Pregnancies  Glucose  BloodPressure  SkinThickness  Insulin   BMI  \\\n",
       "0            6      148             72             35        0  33.6   \n",
       "1            1       85             66             29        0  26.6   \n",
       "2            8      183             64              0        0  23.3   \n",
       "3            1       89             66             23       94  28.1   \n",
       "4            0      137             40             35      168  43.1   \n",
       "\n",
       "   DiabetesPedigreeFunction  Age  Outcome  \n",
       "0                     0.627   50        1  \n",
       "1                     0.351   31        0  \n",
       "2                     0.672   32        1  \n",
       "3                     0.167   21        0  \n",
       "4                     2.288   33        1  "
      ]
     },
     "execution_count": 21,
     "metadata": {},
     "output_type": "execute_result"
    }
   ],
   "source": [
    "df.head()"
   ]
  },
  {
   "cell_type": "code",
   "execution_count": 22,
   "id": "f3fe420b",
   "metadata": {},
   "outputs": [
    {
     "name": "stdout",
     "output_type": "stream",
     "text": [
      "train data X size : (614, 8)\n",
      "train data Y size : (614,)\n",
      "test data X size : (154, 8)\n",
      "test data Y size : (154,)\n"
     ]
    }
   ],
   "source": [
    "# 설명변수, 목표변수 데이터 구분\n",
    "df_x = df.iloc[:, :-1]\n",
    "df_y = df.iloc[:, -1]\n",
    "# 데이터 분할\n",
    "X_train, X_test, Y_train, Y_test = train_test_split(df_x, df_y, test_size = 0.2, random_state = 156, stratify = df_y)\n",
    "print('train data X size :', X_train.shape)\n",
    "print('train data Y size :', Y_train.shape)\n",
    "print('test data X size :', X_test.shape)\n",
    "print('test data Y size :', Y_test.shape)"
   ]
  },
  {
   "cell_type": "markdown",
   "id": "9e290b04",
   "metadata": {},
   "source": [
    "# Modeling"
   ]
  },
  {
   "cell_type": "code",
   "execution_count": 23,
   "id": "7d7c0211",
   "metadata": {},
   "outputs": [
    {
     "name": "stdout",
     "output_type": "stream",
     "text": [
      "오차행렬\n",
      " [[87 13]\n",
      " [22 32]]\n",
      "\n",
      "정확도 : 0.7727\n",
      "정밀도 : 0.7111\n",
      "재현율 : 0.5926\n",
      "F1 : 0.6465\n",
      "AUC : 0.8083\n"
     ]
    }
   ],
   "source": [
    "# Logistic Regression\n",
    "lr = LR(solver = 'liblinear')\n",
    "lr.fit(X_train, Y_train)\n",
    "y_pred = lr.predict(X_test)\n",
    "y_pred_proba = lr.predict_proba(X_test)[:,1]\n",
    "# 결과 확인\n",
    "clf_eval(Y_test, y_pred, y_pred_proba)"
   ]
  },
  {
   "cell_type": "markdown",
   "id": "5a28d5bf",
   "metadata": {},
   "source": [
    "### ROC curve 그래프"
   ]
  },
  {
   "cell_type": "code",
   "execution_count": 24,
   "id": "3d93a5a5",
   "metadata": {},
   "outputs": [
    {
     "data": {
      "image/png": "[encoded data removed]",
      "text/plain": [
       "<Figure size 432x288 with 1 Axes>"
      ]
     },
     "metadata": {
      "needs_background": "light"
     },
     "output_type": "display_data"
    }
   ],
   "source": [
    "roc_curve_plot(Y_test, y_pred_proba)"
   ]
  },
  {
   "cell_type": "markdown",
   "id": "10e81a54",
   "metadata": {},
   "source": [
    "# 데이터 스케일링"
   ]
  },
  {
   "cell_type": "code",
   "execution_count": 26,
   "id": "2b8a1594",
   "metadata": {},
   "outputs": [
    {
     "name": "stdout",
     "output_type": "stream",
     "text": [
      "오차행렬\n",
      " [[90 10]\n",
      " [21 33]]\n",
      "\n",
      "정확도 : 0.7987\n",
      "정밀도 : 0.7674\n",
      "재현율 : 0.6111\n",
      "F1 : 0.6804\n",
      "AUC : 0.8059\n"
     ]
    }
   ],
   "source": [
    "# scaler\n",
    "scaler = StandardScaler()\n",
    "X_scaled = scaler.fit_transform(df_x)\n",
    "# 데이터 분할\n",
    "X_train, X_test, Y_train, Y_test = train_test_split(X_scaled, df_y, test_size = 0.2, random_state = 156, stratify = df_y)\n",
    "# Logistic Regression\n",
    "lr = LR(solver = 'liblinear')\n",
    "lr.fit(X_train, Y_train)\n",
    "y_pred = lr.predict(X_test)\n",
    "y_pred_proba = lr.predict_proba(X_test)[:,1]\n",
    "# 결과 확인\n",
    "clf_eval(Y_test, y_pred, y_pred_proba)"
   ]
  },
  {
   "cell_type": "markdown",
   "id": "c577e1f2",
   "metadata": {},
   "source": [
    "# Trade off"
   ]
  },
  {
   "cell_type": "code",
   "execution_count": 31,
   "id": "a04a7df3",
   "metadata": {},
   "outputs": [
    {
     "name": "stdout",
     "output_type": "stream",
     "text": [
      "임곗값 : 0.3\n",
      "오차행렬\n",
      " [[90 10]\n",
      " [21 33]]\n",
      "\n",
      "정확도 : 0.7987\n",
      "정밀도 : 0.7674\n",
      "재현율 : 0.6111\n",
      "F1 : 0.6804\n",
      "AUC : 0.8059\n",
      "\n",
      "\n",
      "임곗값 : 0.33\n",
      "오차행렬\n",
      " [[90 10]\n",
      " [21 33]]\n",
      "\n",
      "정확도 : 0.7987\n",
      "정밀도 : 0.7674\n",
      "재현율 : 0.6111\n",
      "F1 : 0.6804\n",
      "AUC : 0.8059\n",
      "\n",
      "\n",
      "임곗값 : 0.36\n",
      "오차행렬\n",
      " [[90 10]\n",
      " [21 33]]\n",
      "\n",
      "정확도 : 0.7987\n",
      "정밀도 : 0.7674\n",
      "재현율 : 0.6111\n",
      "F1 : 0.6804\n",
      "AUC : 0.8059\n",
      "\n",
      "\n",
      "임곗값 : 0.39\n",
      "오차행렬\n",
      " [[90 10]\n",
      " [21 33]]\n",
      "\n",
      "정확도 : 0.7987\n",
      "정밀도 : 0.7674\n",
      "재현율 : 0.6111\n",
      "F1 : 0.6804\n",
      "AUC : 0.8059\n",
      "\n",
      "\n",
      "임곗값 : 0.42\n",
      "오차행렬\n",
      " [[90 10]\n",
      " [21 33]]\n",
      "\n",
      "정확도 : 0.7987\n",
      "정밀도 : 0.7674\n",
      "재현율 : 0.6111\n",
      "F1 : 0.6804\n",
      "AUC : 0.8059\n",
      "\n",
      "\n",
      "임곗값 : 0.45\n",
      "오차행렬\n",
      " [[90 10]\n",
      " [21 33]]\n",
      "\n",
      "정확도 : 0.7987\n",
      "정밀도 : 0.7674\n",
      "재현율 : 0.6111\n",
      "F1 : 0.6804\n",
      "AUC : 0.8059\n",
      "\n",
      "\n",
      "임곗값 : 0.48\n",
      "오차행렬\n",
      " [[90 10]\n",
      " [21 33]]\n",
      "\n",
      "정확도 : 0.7987\n",
      "정밀도 : 0.7674\n",
      "재현율 : 0.6111\n",
      "F1 : 0.6804\n",
      "AUC : 0.8059\n",
      "\n",
      "\n",
      "임곗값 : 0.5\n",
      "오차행렬\n",
      " [[90 10]\n",
      " [21 33]]\n",
      "\n",
      "정확도 : 0.7987\n",
      "정밀도 : 0.7674\n",
      "재현율 : 0.6111\n",
      "F1 : 0.6804\n",
      "AUC : 0.8059\n",
      "\n",
      "\n"
     ]
    }
   ],
   "source": [
    "# Trade off 함수\n",
    "def eval_by_threshold(Y_test, y_pred_proba, thresholds) :\n",
    "    # thresholds 값을 차례로 수행\n",
    "    for i in thresholds :\n",
    "        binarizer = Binarizer(threshold = i).fit(y_pred_proba)\n",
    "        i_predict = binarizer.transform(y_pred_proba)\n",
    "        print('임곗값 :', i)\n",
    "        clf_eval(Y_test, y_pred, y_pred_proba)\n",
    "        print('\\n')\n",
    "\n",
    "thresholds = [0.3, 0.33, 0.36, 0.39, 0.42, 0.45, 0.48, 0.5]\n",
    "y_pred_proba = lr.predict_proba(X_test)\n",
    "from sklearn.preprocessing import Binarizer\n",
    "eval_by_threshold(Y_test, y_pred_proba[:,1].reshape(-1,1), thresholds)"
   ]
  },
  {
   "cell_type": "markdown",
   "id": "6ce70ebc",
   "metadata": {},
   "source": [
    "* 임곗값 0.48에서 가장 좋은 성능을 보이고 있음"
   ]
  }
 ],
 "metadata": {
  "kernelspec": {
   "display_name": "Python 3 (ipykernel)",
   "language": "python",
   "name": "python3"
  },
  "language_info": {
   "codemirror_mode": {
    "name": "ipython",
    "version": 3
   },
   "file_extension": ".py",
   "mimetype": "text/x-python",
   "name": "python",
   "nbconvert_exporter": "python",
   "pygments_lexer": "ipython3",
   "version": "3.9.12"
  }
 },
 "nbformat": 4,
 "nbformat_minor": 5
}
