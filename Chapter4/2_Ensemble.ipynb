{
 "cells": [
  {
   "cell_type": "markdown",
   "id": "49e21b7f",
   "metadata": {},
   "source": [
    "# Voting"
   ]
  },
  {
   "cell_type": "code",
   "execution_count": 1,
   "id": "40c76cd0",
   "metadata": {},
   "outputs": [],
   "source": [
    "# 패키지\n",
    "import pandas as pd\n",
    "from sklearn.datasets import load_breast_cancer\n",
    "from sklearn.model_selection import train_test_split\n",
    "from sklearn.ensemble import VotingClassifier\n",
    "from sklearn.linear_model import LogisticRegression\n",
    "from sklearn.neighbors import KNeighborsClassifier\n",
    "from sklearn.metrics import accuracy_score\n",
    "import warnings \n",
    "warnings.filterwarnings('ignore')"
   ]
  },
  {
   "cell_type": "code",
   "execution_count": 2,
   "id": "7e5f9a07",
   "metadata": {},
   "outputs": [
    {
     "name": "stdout",
     "output_type": "stream",
     "text": [
      "Voting 정확도 : 0.9561\n",
      "LogisticRegression 정확도 : 0.9474\n",
      "KNeighborsClassifier 정확도 : 0.9386\n"
     ]
    }
   ],
   "source": [
    "# 데이터\n",
    "df_raw = load_breast_cancer()\n",
    "import copy\n",
    "df = copy.deepcopy(df_raw)\n",
    "# 데이터 분할\n",
    "X_train, X_test, Y_train, Y_test = train_test_split(df.data, df.target, test_size = 0.2, random_state = 156)\n",
    "# Logistic Regression\n",
    "lr = LogisticRegression(solver = 'liblinear')\n",
    "knn = KNeighborsClassifier(n_neighbors = 8)\n",
    "# Voting\n",
    "vs = VotingClassifier(estimators = [('LR',lr),\n",
    "                                    ('KNN',knn)],\n",
    "                                    voting = 'soft')\n",
    "vs.fit(X_train, Y_train)\n",
    "y_pred = vs.predict(X_test)\n",
    "accuracy = accuracy_score(Y_test, y_pred)\n",
    "# 결과 확인\n",
    "print('Voting 정확도 : {:.4f}'.format(accuracy))\n",
    "# 개별 모델 결과 확인\n",
    "model = [lr, knn]\n",
    "for classifier in model :\n",
    "    classifier.fit(X_train, Y_train)\n",
    "    y_pred = classifier.predict(X_test)\n",
    "    classifier_name = classifier.__class__.__name__\n",
    "    print('{} 정확도 : {:.4f}'.format(classifier_name, accuracy_score(Y_test, y_pred)))"
   ]
  },
  {
   "cell_type": "markdown",
   "id": "f0bb54c4",
   "metadata": {},
   "source": [
    "# Random Forest"
   ]
  },
  {
   "cell_type": "code",
   "execution_count": 3,
   "id": "1a223537",
   "metadata": {},
   "outputs": [],
   "source": [
    "# 이름 변경 함수\n",
    "def get_new_name(old_feature_name_data) :\n",
    "    feature_gb = pd.DataFrame(data = old_feature_name_data.groupby('column_name').cumcount(),\n",
    "                              columns = ['cnt_gb'])\n",
    "    feature_gb = feature_gb.reset_index()\n",
    "    new_feature_name_data = pd.merge(old_feature_name_data.reset_index(),\n",
    "                                     feature_gb,\n",
    "                                     how = 'outer')\n",
    "    new_feature_name_data['column_name'] = new_feature_name_data[['column_name','cnt_gb']].apply(lambda x : x[0] + '_' + str(x[1]) if x[1] > 0 else x[0], axis = 1)\n",
    "    new_feature_name_data = new_feature_name_data.drop(['index'], axis = 1)\n",
    "    \n",
    "    return new_feature_name_data\n",
    "\n",
    "def get_human_dataset( ):\n",
    "    \n",
    "    # 각 데이터 파일들은 공백으로 분리되어 있으므로 read_csv에서 공백 문자를 sep으로 할당.\n",
    "    feature_name_df = pd.read_csv('./data_1/features.txt',sep='\\s+',\n",
    "                        header=None,names=['column_index','column_name'])\n",
    "    \n",
    "    # 중복된 피처명을 수정하는 get_new_feature_name_df()를 이용, 신규 피처명 DataFrame생성. \n",
    "    new_feature_name_df = get_new_name(feature_name_df)\n",
    "    \n",
    "    # DataFrame에 피처명을 컬럼으로 부여하기 위해 리스트 객체로 다시 변환\n",
    "    feature_name = new_feature_name_df.iloc[:, 1].values.tolist()\n",
    "    \n",
    "    # 학습 피처 데이터 셋과 테스트 피처 데이터을 DataFrame으로 로딩. 컬럼명은 feature_name 적용\n",
    "    X_train = pd.read_csv('./data_1/train/X_train.txt',sep='\\s+', names=feature_name )\n",
    "    X_test = pd.read_csv('./data_1/test/X_test.txt',sep='\\s+', names=feature_name)\n",
    "    \n",
    "    # 학습 레이블과 테스트 레이블 데이터을 DataFrame으로 로딩하고 컬럼명은 action으로 부여\n",
    "    y_train = pd.read_csv('./data_1/train/y_train.txt',sep='\\s+',header=None,names=['action'])\n",
    "    y_test = pd.read_csv('./data_1/test/y_test.txt',sep='\\s+',header=None,names=['action'])\n",
    "    \n",
    "    # 로드된 학습/테스트용 DataFrame을 모두 반환 \n",
    "    return X_train, X_test, y_train, y_test"
   ]
  },
  {
   "cell_type": "code",
   "execution_count": 4,
   "id": "8cb81314",
   "metadata": {},
   "outputs": [],
   "source": [
    "# 패키지\n",
    "from sklearn.ensemble import RandomForestClassifier as RFC"
   ]
  },
  {
   "cell_type": "code",
   "execution_count": 5,
   "id": "6a0da756",
   "metadata": {},
   "outputs": [
    {
     "name": "stdout",
     "output_type": "stream",
     "text": [
      "정확도 : 0.9196\n"
     ]
    }
   ],
   "source": [
    "# 데이터 불러오기 및 분할\n",
    "X_train, X_test, Y_train, Y_test = get_human_dataset()\n",
    "# Random Forest\n",
    "rf = RFC(random_state = 0, n_estimators = 100, max_depth = 8)\n",
    "rf.fit(X_train, Y_train)\n",
    "y_pred = rf.predict(X_test)\n",
    "accuracy = accuracy_score(Y_test, y_pred)\n",
    "# # 결과 확인\n",
    "print('정확도 : {:.4f}'.format(accuracy))"
   ]
  },
  {
   "cell_type": "markdown",
   "id": "e7e0eb4e",
   "metadata": {},
   "source": [
    "### GridSearchCV"
   ]
  },
  {
   "cell_type": "code",
   "execution_count": 6,
   "id": "d7ce48ac",
   "metadata": {},
   "outputs": [
    {
     "name": "stdout",
     "output_type": "stream",
     "text": [
      "수행 시간 : 1 분 17 초\n",
      "\n",
      "best estimator model: \n",
      "RandomForestClassifier(max_depth=16, min_samples_leaf=6, n_jobs=-1,\n",
      "                       random_state=0)\n",
      "\n",
      "best parameter: \n",
      "{'max_depth': 16, 'min_samples_leaf': 6, 'min_samples_split': 2}\n",
      "\n",
      "best score: \n",
      "0.9165\n"
     ]
    }
   ],
   "source": [
    "# 시작 시간 설정\n",
    "import time\n",
    "start_time = time.time()\n",
    "# parameter\n",
    "para_grid = {'max_depth' : [8,16,24],\n",
    "             'min_samples_leaf' : [1,6,12],\n",
    "             'min_samples_split' : [2,8,16]\n",
    "             }\n",
    "# 설명력이 높은 최적 parameter 찾기\n",
    "from sklearn.model_selection import GridSearchCV\n",
    "rf = RFC(random_state = 0, n_estimators = 100, n_jobs = -1)\n",
    "grid_rfc = GridSearchCV(rf,\n",
    "                        para_grid,\n",
    "                        cv = 2,\n",
    "                        n_jobs = -1)\n",
    "grid_rfc.fit(X_train, Y_train)\n",
    "# 결과 확인\n",
    "print('수행 시간 : {:.0f} 분 {:.0f} 초\\n'.format((time.time() - start_time) // 60, (time.time() - start_time) % 60))\n",
    "print('best estimator model: \\n{}'.format(grid_rfc.best_estimator_))\n",
    "print('\\nbest parameter: \\n{}'.format(grid_rfc.best_params_))\n",
    "print('\\nbest score: \\n{:.4f}'.format(grid_rfc.best_score_))"
   ]
  },
  {
   "cell_type": "markdown",
   "id": "78a25a7c",
   "metadata": {},
   "source": [
    "##### GridSearchCV 반영"
   ]
  },
  {
   "cell_type": "code",
   "execution_count": 7,
   "id": "3781da7d",
   "metadata": {},
   "outputs": [
    {
     "name": "stdout",
     "output_type": "stream",
     "text": [
      "정확도 : 0.9260\n"
     ]
    }
   ],
   "source": [
    "rf = RFC(random_state = 0,\n",
    "         n_estimators = 100,\n",
    "         max_depth = 16,\n",
    "         min_samples_leaf = 6,\n",
    "         min_samples_split = 2)\n",
    "rf.fit(X_train, Y_train)\n",
    "y_pred = rf.predict(X_test)\n",
    "accuracy = accuracy_score(Y_test, y_pred)\n",
    "# 결과 확인\n",
    "print('정확도 : {:.4f}'.format(accuracy))"
   ]
  },
  {
   "cell_type": "code",
   "execution_count": 8,
   "id": "5615e264",
   "metadata": {},
   "outputs": [
    {
     "name": "stdout",
     "output_type": "stream",
     "text": [
      "angle(X,gravityMean)               0.035312\n",
      "tGravityAcc-mean()-Y               0.033729\n",
      "tGravityAcc-min()-X                0.030276\n",
      "angle(Y,gravityMean)               0.029013\n",
      "tGravityAcc-max()-X                0.027538\n",
      "tGravityAcc-mean()-X               0.024708\n",
      "tGravityAcc-energy()-X             0.024389\n",
      "tGravityAcc-min()-Y                0.023339\n",
      "tGravityAcc-max()-Y                0.021011\n",
      "fBodyAccJerk-bandsEnergy()-1,8     0.018636\n",
      "tGravityAcc-energy()-Y             0.015461\n",
      "tBodyAcc-max()-X                   0.013750\n",
      "tBodyAccJerk-entropy()-X           0.013433\n",
      "tGravityAcc-arCoeff()-Z,1          0.013150\n",
      "tGravityAcc-max()-Z                0.013125\n",
      "fBodyAccMag-energy()               0.012262\n",
      "tGravityAcc-energy()-Z             0.010683\n",
      "fBodyAccJerk-bandsEnergy()-1,16    0.010095\n",
      "fBodyAcc-mad()-X                   0.010036\n",
      "angle(Z,gravityMean)               0.009483\n",
      "dtype: float64\n"
     ]
    }
   ],
   "source": [
    "# Feature Importance\n",
    "df_importance_values = rf.feature_importances_\n",
    "df_importance = pd.Series(df_importance_values,\n",
    "                          index = X_train.columns)\n",
    "importance_top20 = df_importance.sort_values(ascending = False)[:20]\n",
    "print(importance_top20)"
   ]
  },
  {
   "cell_type": "code",
   "execution_count": 9,
   "id": "493fa4dd",
   "metadata": {},
   "outputs": [
    {
     "data": {
      "image/png": "[encoded data removed]",
      "text/plain": [
       "<Figure size 576x432 with 1 Axes>"
      ]
     },
     "metadata": {
      "needs_background": "light"
     },
     "output_type": "display_data"
    }
   ],
   "source": [
    "# 한글, 음수 표시\n",
    "import matplotlib\n",
    "import matplotlib.pyplot as plt\n",
    "matplotlib.rc('font', family = 'Malgun Gothic')\n",
    "matplotlib.rc('axes', unicode_minus = False)\n",
    "import seaborn as sns\n",
    "# Graph\n",
    "plt.figure(figsize = (8,6))\n",
    "plt.title(\"Feature Importances TOP 20\")\n",
    "sns.barplot(x = importance_top20, y = importance_top20.index)\n",
    "plt.show()"
   ]
  },
  {
   "cell_type": "markdown",
   "id": "06893431",
   "metadata": {},
   "source": [
    "# Gradient Boosting"
   ]
  },
  {
   "cell_type": "code",
   "execution_count": 10,
   "id": "525c48af",
   "metadata": {},
   "outputs": [
    {
     "name": "stdout",
     "output_type": "stream",
     "text": [
      "수행 시간 : 29 분 26 초\n",
      "\n",
      "정확도 : 0.9389\n"
     ]
    }
   ],
   "source": [
    "# 패키지\n",
    "from sklearn.ensemble import GradientBoostingClassifier as GBC\n",
    "# 데이터 불러오기 및 분할\n",
    "X_train, X_test, Y_train, Y_test = get_human_dataset()\n",
    "# 시작 시간 설정\n",
    "start_time = time.time()\n",
    "# Gradient Boosting\n",
    "gb = GBC(random_state = 0)\n",
    "gb.fit(X_train, Y_train)\n",
    "y_pred = gb.predict(X_test)\n",
    "accuracy = accuracy_score(Y_test, y_pred)\n",
    "# 결과 확인\n",
    "print('수행 시간 : {:.0f} 분 {:.0f} 초\\n'.format((time.time() - start_time) // 60, (time.time() - start_time) % 60))\n",
    "print('정확도 : {:.4f}'.format(accuracy))"
   ]
  },
  {
   "cell_type": "markdown",
   "id": "412f5119",
   "metadata": {},
   "source": [
    "### GridSearchCV"
   ]
  },
  {
   "cell_type": "code",
   "execution_count": null,
   "id": "af716847",
   "metadata": {},
   "outputs": [],
   "source": [
    "# 시작 시간 설정\n",
    "start_time = time.time()\n",
    "# parameter\n",
    "para_grid = {'n_estimators' : [100,500],\n",
    "             'learning_rate' : [0.05, 0.1]\n",
    "             }\n",
    "# 설명력이 높은 최적 parameter 찾기\n",
    "grid_gbc = GridSearchCV(gb,\n",
    "                        para_grid,\n",
    "                        cv = 2,\n",
    "                        verbose = 1)\n",
    "grid_gbc.fit(X_train, Y_train)\n",
    "# 결과 확인\n",
    "print('수행 시간 : {:.0f} 분 {:.0f} 초\\n'.format((time.time() - start_time) // 60, (time.time() - start_time) % 60))\n",
    "print('best estimator model: \\n{}'.format(grid_gbc.best_estimator_))\n",
    "print('\\nbest parameter: \\n{}'.format(grid_gbc.best_params_))\n",
    "print('\\nbest score: \\n{:.4f}'.format(grid_gbc.best_score_))"
   ]
  },
  {
   "cell_type": "markdown",
   "id": "70576b8a",
   "metadata": {},
   "source": [
    "# XGBoost"
   ]
  },
  {
   "cell_type": "code",
   "execution_count": 11,
   "id": "e7952266",
   "metadata": {},
   "outputs": [],
   "source": [
    "# 패키지\n",
    "import numpy as np\n",
    "import xgboost as xgb\n",
    "from xgboost import XGBClassifier as XGBC\n",
    "from xgboost import plot_importance"
   ]
  },
  {
   "cell_type": "code",
   "execution_count": 12,
   "id": "35c3a423",
   "metadata": {},
   "outputs": [
    {
     "data": {
      "text/html": [
       "<div>\n",
       "<style scoped>\n",
       "    .dataframe tbody tr th:only-of-type {\n",
       "        vertical-align: middle;\n",
       "    }\n",
       "\n",
       "    .dataframe tbody tr th {\n",
       "        vertical-align: top;\n",
       "    }\n",
       "\n",
       "    .dataframe thead th {\n",
       "        text-align: right;\n",
       "    }\n",
       "</style>\n",
       "<table border=\"1\" class=\"dataframe\">\n",
       "  <thead>\n",
       "    <tr style=\"text-align: right;\">\n",
       "      <th></th>\n",
       "      <th>mean radius</th>\n",
       "      <th>mean texture</th>\n",
       "      <th>mean perimeter</th>\n",
       "      <th>mean area</th>\n",
       "      <th>mean smoothness</th>\n",
       "      <th>mean compactness</th>\n",
       "      <th>mean concavity</th>\n",
       "      <th>mean concave points</th>\n",
       "      <th>mean symmetry</th>\n",
       "      <th>mean fractal dimension</th>\n",
       "      <th>...</th>\n",
       "      <th>worst texture</th>\n",
       "      <th>worst perimeter</th>\n",
       "      <th>worst area</th>\n",
       "      <th>worst smoothness</th>\n",
       "      <th>worst compactness</th>\n",
       "      <th>worst concavity</th>\n",
       "      <th>worst concave points</th>\n",
       "      <th>worst symmetry</th>\n",
       "      <th>worst fractal dimension</th>\n",
       "      <th>target</th>\n",
       "    </tr>\n",
       "  </thead>\n",
       "  <tbody>\n",
       "    <tr>\n",
       "      <th>0</th>\n",
       "      <td>17.99</td>\n",
       "      <td>10.38</td>\n",
       "      <td>122.8</td>\n",
       "      <td>1001.0</td>\n",
       "      <td>0.11840</td>\n",
       "      <td>0.27760</td>\n",
       "      <td>0.3001</td>\n",
       "      <td>0.14710</td>\n",
       "      <td>0.2419</td>\n",
       "      <td>0.07871</td>\n",
       "      <td>...</td>\n",
       "      <td>17.33</td>\n",
       "      <td>184.6</td>\n",
       "      <td>2019.0</td>\n",
       "      <td>0.1622</td>\n",
       "      <td>0.6656</td>\n",
       "      <td>0.7119</td>\n",
       "      <td>0.2654</td>\n",
       "      <td>0.4601</td>\n",
       "      <td>0.11890</td>\n",
       "      <td>0</td>\n",
       "    </tr>\n",
       "    <tr>\n",
       "      <th>1</th>\n",
       "      <td>20.57</td>\n",
       "      <td>17.77</td>\n",
       "      <td>132.9</td>\n",
       "      <td>1326.0</td>\n",
       "      <td>0.08474</td>\n",
       "      <td>0.07864</td>\n",
       "      <td>0.0869</td>\n",
       "      <td>0.07017</td>\n",
       "      <td>0.1812</td>\n",
       "      <td>0.05667</td>\n",
       "      <td>...</td>\n",
       "      <td>23.41</td>\n",
       "      <td>158.8</td>\n",
       "      <td>1956.0</td>\n",
       "      <td>0.1238</td>\n",
       "      <td>0.1866</td>\n",
       "      <td>0.2416</td>\n",
       "      <td>0.1860</td>\n",
       "      <td>0.2750</td>\n",
       "      <td>0.08902</td>\n",
       "      <td>0</td>\n",
       "    </tr>\n",
       "    <tr>\n",
       "      <th>2</th>\n",
       "      <td>19.69</td>\n",
       "      <td>21.25</td>\n",
       "      <td>130.0</td>\n",
       "      <td>1203.0</td>\n",
       "      <td>0.10960</td>\n",
       "      <td>0.15990</td>\n",
       "      <td>0.1974</td>\n",
       "      <td>0.12790</td>\n",
       "      <td>0.2069</td>\n",
       "      <td>0.05999</td>\n",
       "      <td>...</td>\n",
       "      <td>25.53</td>\n",
       "      <td>152.5</td>\n",
       "      <td>1709.0</td>\n",
       "      <td>0.1444</td>\n",
       "      <td>0.4245</td>\n",
       "      <td>0.4504</td>\n",
       "      <td>0.2430</td>\n",
       "      <td>0.3613</td>\n",
       "      <td>0.08758</td>\n",
       "      <td>0</td>\n",
       "    </tr>\n",
       "  </tbody>\n",
       "</table>\n",
       "<p>3 rows × 31 columns</p>\n",
       "</div>"
      ],
      "text/plain": [
       "   mean radius  mean texture  mean perimeter  mean area  mean smoothness  \\\n",
       "0        17.99         10.38           122.8     1001.0          0.11840   \n",
       "1        20.57         17.77           132.9     1326.0          0.08474   \n",
       "2        19.69         21.25           130.0     1203.0          0.10960   \n",
       "\n",
       "   mean compactness  mean concavity  mean concave points  mean symmetry  \\\n",
       "0           0.27760          0.3001              0.14710         0.2419   \n",
       "1           0.07864          0.0869              0.07017         0.1812   \n",
       "2           0.15990          0.1974              0.12790         0.2069   \n",
       "\n",
       "   mean fractal dimension  ...  worst texture  worst perimeter  worst area  \\\n",
       "0                 0.07871  ...          17.33            184.6      2019.0   \n",
       "1                 0.05667  ...          23.41            158.8      1956.0   \n",
       "2                 0.05999  ...          25.53            152.5      1709.0   \n",
       "\n",
       "   worst smoothness  worst compactness  worst concavity  worst concave points  \\\n",
       "0            0.1622             0.6656           0.7119                0.2654   \n",
       "1            0.1238             0.1866           0.2416                0.1860   \n",
       "2            0.1444             0.4245           0.4504                0.2430   \n",
       "\n",
       "   worst symmetry  worst fractal dimension  target  \n",
       "0          0.4601                  0.11890       0  \n",
       "1          0.2750                  0.08902       0  \n",
       "2          0.3613                  0.08758       0  \n",
       "\n",
       "[3 rows x 31 columns]"
      ]
     },
     "execution_count": 12,
     "metadata": {},
     "output_type": "execute_result"
    }
   ],
   "source": [
    "# 데이터\n",
    "df_raw = load_breast_cancer()\n",
    "X_raw = df_raw.data\n",
    "Y_raw = df_raw.target\n",
    "df = pd.DataFrame(data = X_raw, columns = df_raw.feature_names)\n",
    "df['target'] = Y_raw\n",
    "df.head(3)"
   ]
  },
  {
   "cell_type": "code",
   "execution_count": 13,
   "id": "13cf45aa",
   "metadata": {},
   "outputs": [
    {
     "name": "stdout",
     "output_type": "stream",
     "text": [
      "['malignant' 'benign']\n",
      "1    357\n",
      "0    212\n",
      "Name: target, dtype: int64\n"
     ]
    }
   ],
   "source": [
    "# target\n",
    "print(df_raw.target_names)\n",
    "print(df['target'].value_counts())"
   ]
  },
  {
   "cell_type": "code",
   "execution_count": 14,
   "id": "270db25c",
   "metadata": {},
   "outputs": [
    {
     "name": "stdout",
     "output_type": "stream",
     "text": [
      "(455, 30) (114, 30)\n",
      "(409, 30) (46, 30)\n"
     ]
    }
   ],
   "source": [
    "# x,y\n",
    "X = df.iloc[:,:-1]\n",
    "Y = df.iloc[:,-1]\n",
    "# 데이터 분할(Train:Validation:Test = 7:1:2)\n",
    "x_train, X_test, y_train, Y_test = train_test_split(X, Y, test_size = 0.2, random_state = 156)\n",
    "X_train, X_val, Y_train, Y_val = train_test_split(x_train, y_train, test_size = 0.1, random_state = 156)\n",
    "print(x_train.shape, X_test.shape)\n",
    "print(X_train.shape, X_val.shape)"
   ]
  },
  {
   "cell_type": "code",
   "execution_count": 15,
   "id": "ad7fdf3c",
   "metadata": {},
   "outputs": [],
   "source": [
    "# Dmatrix\n",
    "train = xgb.DMatrix(data = X_train, label = Y_train)\n",
    "val = xgb.DMatrix(data = X_val, label = Y_val)\n",
    "test = xgb.DMatrix(data = X_test, label = Y_test)"
   ]
  },
  {
   "cell_type": "code",
   "execution_count": 16,
   "id": "2471ddae",
   "metadata": {},
   "outputs": [],
   "source": [
    "# parameter\n",
    "params = {'max_depth' : 3,\n",
    "          'eta' : 0.05,\n",
    "          'objective' : 'binary:logistic',\n",
    "          'eval_metric' : 'logloss'\n",
    "          }\n",
    "num_rounds = 400"
   ]
  },
  {
   "cell_type": "code",
   "execution_count": 17,
   "id": "4f9e39ce",
   "metadata": {},
   "outputs": [
    {
     "name": "stdout",
     "output_type": "stream",
     "text": [
      "[0]\ttrain-logloss:0.65016\tval-logloss:0.66183\n",
      "[1]\ttrain-logloss:0.61131\tval-logloss:0.63609\n",
      "[2]\ttrain-logloss:0.57563\tval-logloss:0.61144\n",
      "[3]\ttrain-logloss:0.54310\tval-logloss:0.59204\n",
      "[4]\ttrain-logloss:0.51323\tval-logloss:0.57329\n",
      "[5]\ttrain-logloss:0.48447\tval-logloss:0.55037\n",
      "[6]\ttrain-logloss:0.45796\tval-logloss:0.52930\n",
      "[7]\ttrain-logloss:0.43436\tval-logloss:0.51534\n",
      "[8]\ttrain-logloss:0.41150\tval-logloss:0.49718\n",
      "[9]\ttrain-logloss:0.39027\tval-logloss:0.48154\n",
      "[10]\ttrain-logloss:0.37128\tval-logloss:0.46990\n",
      "[11]\ttrain-logloss:0.35254\tval-logloss:0.45474\n",
      "[12]\ttrain-logloss:0.33528\tval-logloss:0.44229\n",
      "[13]\ttrain-logloss:0.31892\tval-logloss:0.42961\n",
      "[14]\ttrain-logloss:0.30439\tval-logloss:0.42065\n",
      "[15]\ttrain-logloss:0.29000\tval-logloss:0.40958\n",
      "[16]\ttrain-logloss:0.27651\tval-logloss:0.39887\n",
      "[17]\ttrain-logloss:0.26389\tval-logloss:0.39050\n",
      "[18]\ttrain-logloss:0.25210\tval-logloss:0.38254\n",
      "[19]\ttrain-logloss:0.24123\tval-logloss:0.37393\n",
      "[20]\ttrain-logloss:0.23076\tval-logloss:0.36789\n",
      "[21]\ttrain-logloss:0.22091\tval-logloss:0.36017\n",
      "[22]\ttrain-logloss:0.21155\tval-logloss:0.35421\n",
      "[23]\ttrain-logloss:0.20263\tval-logloss:0.34683\n",
      "[24]\ttrain-logloss:0.19434\tval-logloss:0.34111\n",
      "[25]\ttrain-logloss:0.18637\tval-logloss:0.33634\n",
      "[26]\ttrain-logloss:0.17875\tval-logloss:0.33082\n",
      "[27]\ttrain-logloss:0.17167\tval-logloss:0.32675\n",
      "[28]\ttrain-logloss:0.16481\tval-logloss:0.32099\n",
      "[29]\ttrain-logloss:0.15835\tval-logloss:0.31671\n",
      "[30]\ttrain-logloss:0.15225\tval-logloss:0.31277\n",
      "[31]\ttrain-logloss:0.14650\tval-logloss:0.30882\n",
      "[32]\ttrain-logloss:0.14102\tval-logloss:0.30437\n",
      "[33]\ttrain-logloss:0.13590\tval-logloss:0.30103\n",
      "[34]\ttrain-logloss:0.13109\tval-logloss:0.29794\n",
      "[35]\ttrain-logloss:0.12647\tval-logloss:0.29499\n",
      "[36]\ttrain-logloss:0.12197\tval-logloss:0.29295\n",
      "[37]\ttrain-logloss:0.11784\tval-logloss:0.29043\n",
      "[38]\ttrain-logloss:0.11379\tval-logloss:0.28927\n",
      "[39]\ttrain-logloss:0.10994\tval-logloss:0.28578\n",
      "[40]\ttrain-logloss:0.10638\tval-logloss:0.28364\n",
      "[41]\ttrain-logloss:0.10302\tval-logloss:0.28183\n",
      "[42]\ttrain-logloss:0.09963\tval-logloss:0.28005\n",
      "[43]\ttrain-logloss:0.09649\tval-logloss:0.27972\n",
      "[44]\ttrain-logloss:0.09359\tval-logloss:0.27744\n",
      "[45]\ttrain-logloss:0.09080\tval-logloss:0.27542\n",
      "[46]\ttrain-logloss:0.08807\tval-logloss:0.27504\n",
      "[47]\ttrain-logloss:0.08541\tval-logloss:0.27458\n",
      "[48]\ttrain-logloss:0.08299\tval-logloss:0.27348\n",
      "[49]\ttrain-logloss:0.08035\tval-logloss:0.27247\n",
      "[50]\ttrain-logloss:0.07786\tval-logloss:0.27163\n",
      "[51]\ttrain-logloss:0.07550\tval-logloss:0.27094\n",
      "[52]\ttrain-logloss:0.07344\tval-logloss:0.26967\n",
      "[53]\ttrain-logloss:0.07147\tval-logloss:0.27008\n",
      "[54]\ttrain-logloss:0.06964\tval-logloss:0.26890\n",
      "[55]\ttrain-logloss:0.06766\tval-logloss:0.26854\n",
      "[56]\ttrain-logloss:0.06591\tval-logloss:0.26900\n",
      "[57]\ttrain-logloss:0.06433\tval-logloss:0.26790\n",
      "[58]\ttrain-logloss:0.06259\tval-logloss:0.26663\n",
      "[59]\ttrain-logloss:0.06107\tval-logloss:0.26743\n",
      "[60]\ttrain-logloss:0.05957\tval-logloss:0.26610\n",
      "[61]\ttrain-logloss:0.05817\tval-logloss:0.26644\n",
      "[62]\ttrain-logloss:0.05691\tval-logloss:0.26673\n",
      "[63]\ttrain-logloss:0.05550\tval-logloss:0.26550\n",
      "[64]\ttrain-logloss:0.05422\tval-logloss:0.26443\n",
      "[65]\ttrain-logloss:0.05311\tval-logloss:0.26500\n",
      "[66]\ttrain-logloss:0.05207\tval-logloss:0.26591\n",
      "[67]\ttrain-logloss:0.05093\tval-logloss:0.26501\n",
      "[68]\ttrain-logloss:0.04976\tval-logloss:0.26435\n",
      "[69]\ttrain-logloss:0.04872\tval-logloss:0.26360\n",
      "[70]\ttrain-logloss:0.04776\tval-logloss:0.26319\n",
      "[71]\ttrain-logloss:0.04680\tval-logloss:0.26255\n",
      "[72]\ttrain-logloss:0.04580\tval-logloss:0.26204\n",
      "[73]\ttrain-logloss:0.04484\tval-logloss:0.26254\n",
      "[74]\ttrain-logloss:0.04388\tval-logloss:0.26289\n",
      "[75]\ttrain-logloss:0.04309\tval-logloss:0.26249\n",
      "[76]\ttrain-logloss:0.04224\tval-logloss:0.26217\n",
      "[77]\ttrain-logloss:0.04133\tval-logloss:0.26166\n",
      "[78]\ttrain-logloss:0.04050\tval-logloss:0.26179\n",
      "[79]\ttrain-logloss:0.03967\tval-logloss:0.26103\n",
      "[80]\ttrain-logloss:0.03876\tval-logloss:0.26094\n",
      "[81]\ttrain-logloss:0.03806\tval-logloss:0.26148\n",
      "[82]\ttrain-logloss:0.03740\tval-logloss:0.26054\n",
      "[83]\ttrain-logloss:0.03676\tval-logloss:0.25967\n",
      "[84]\ttrain-logloss:0.03605\tval-logloss:0.25905\n",
      "[85]\ttrain-logloss:0.03545\tval-logloss:0.26007\n",
      "[86]\ttrain-logloss:0.03489\tval-logloss:0.25984\n",
      "[87]\ttrain-logloss:0.03425\tval-logloss:0.25933\n",
      "[88]\ttrain-logloss:0.03361\tval-logloss:0.25932\n",
      "[89]\ttrain-logloss:0.03311\tval-logloss:0.26002\n",
      "[90]\ttrain-logloss:0.03260\tval-logloss:0.25936\n",
      "[91]\ttrain-logloss:0.03202\tval-logloss:0.25886\n",
      "[92]\ttrain-logloss:0.03152\tval-logloss:0.25918\n",
      "[93]\ttrain-logloss:0.03107\tval-logloss:0.25864\n",
      "[94]\ttrain-logloss:0.03049\tval-logloss:0.25951\n",
      "[95]\ttrain-logloss:0.03007\tval-logloss:0.26091\n",
      "[96]\ttrain-logloss:0.02963\tval-logloss:0.26014\n",
      "[97]\ttrain-logloss:0.02913\tval-logloss:0.25974\n",
      "[98]\ttrain-logloss:0.02866\tval-logloss:0.25937\n",
      "[99]\ttrain-logloss:0.02829\tval-logloss:0.25893\n",
      "[100]\ttrain-logloss:0.02789\tval-logloss:0.25928\n",
      "[101]\ttrain-logloss:0.02751\tval-logloss:0.25955\n",
      "[102]\ttrain-logloss:0.02714\tval-logloss:0.25901\n",
      "[103]\ttrain-logloss:0.02668\tval-logloss:0.25991\n",
      "[104]\ttrain-logloss:0.02634\tval-logloss:0.25950\n",
      "[105]\ttrain-logloss:0.02594\tval-logloss:0.25924\n",
      "[106]\ttrain-logloss:0.02556\tval-logloss:0.25901\n",
      "[107]\ttrain-logloss:0.02522\tval-logloss:0.25738\n",
      "[108]\ttrain-logloss:0.02492\tval-logloss:0.25702\n",
      "[109]\ttrain-logloss:0.02453\tval-logloss:0.25789\n",
      "[110]\ttrain-logloss:0.02418\tval-logloss:0.25770\n",
      "[111]\ttrain-logloss:0.02384\tval-logloss:0.25842\n",
      "[112]\ttrain-logloss:0.02356\tval-logloss:0.25810\n",
      "[113]\ttrain-logloss:0.02322\tval-logloss:0.25848\n",
      "[114]\ttrain-logloss:0.02290\tval-logloss:0.25833\n",
      "[115]\ttrain-logloss:0.02260\tval-logloss:0.25820\n",
      "[116]\ttrain-logloss:0.02229\tval-logloss:0.25905\n",
      "[117]\ttrain-logloss:0.02204\tval-logloss:0.25878\n",
      "[118]\ttrain-logloss:0.02176\tval-logloss:0.25728\n",
      "[119]\ttrain-logloss:0.02149\tval-logloss:0.25722\n",
      "[120]\ttrain-logloss:0.02119\tval-logloss:0.25764\n",
      "[121]\ttrain-logloss:0.02095\tval-logloss:0.25761\n",
      "[122]\ttrain-logloss:0.02067\tval-logloss:0.25832\n",
      "[123]\ttrain-logloss:0.02045\tval-logloss:0.25808\n",
      "[124]\ttrain-logloss:0.02023\tval-logloss:0.25855\n",
      "[125]\ttrain-logloss:0.01998\tval-logloss:0.25714\n",
      "[126]\ttrain-logloss:0.01973\tval-logloss:0.25587\n",
      "[127]\ttrain-logloss:0.01946\tval-logloss:0.25640\n",
      "[128]\ttrain-logloss:0.01927\tval-logloss:0.25685\n",
      "[129]\ttrain-logloss:0.01908\tval-logloss:0.25665\n",
      "[130]\ttrain-logloss:0.01886\tval-logloss:0.25712\n",
      "[131]\ttrain-logloss:0.01863\tval-logloss:0.25609\n",
      "[132]\ttrain-logloss:0.01839\tval-logloss:0.25649\n",
      "[133]\ttrain-logloss:0.01816\tval-logloss:0.25789\n",
      "[134]\ttrain-logloss:0.01802\tval-logloss:0.25811\n",
      "[135]\ttrain-logloss:0.01785\tval-logloss:0.25794\n",
      "[136]\ttrain-logloss:0.01763\tval-logloss:0.25876\n",
      "[137]\ttrain-logloss:0.01748\tval-logloss:0.25884\n",
      "[138]\ttrain-logloss:0.01732\tval-logloss:0.25867\n",
      "[139]\ttrain-logloss:0.01719\tval-logloss:0.25876\n",
      "[140]\ttrain-logloss:0.01696\tval-logloss:0.25987\n",
      "[141]\ttrain-logloss:0.01681\tval-logloss:0.25960\n",
      "[142]\ttrain-logloss:0.01669\tval-logloss:0.25982\n",
      "[143]\ttrain-logloss:0.01656\tval-logloss:0.25992\n",
      "[144]\ttrain-logloss:0.01638\tval-logloss:0.26035\n",
      "[145]\ttrain-logloss:0.01623\tval-logloss:0.26055\n",
      "[146]\ttrain-logloss:0.01606\tval-logloss:0.26092\n",
      "[147]\ttrain-logloss:0.01589\tval-logloss:0.26137\n",
      "[148]\ttrain-logloss:0.01572\tval-logloss:0.25999\n",
      "[149]\ttrain-logloss:0.01556\tval-logloss:0.26028\n",
      "[150]\ttrain-logloss:0.01546\tval-logloss:0.26048\n",
      "[151]\ttrain-logloss:0.01531\tval-logloss:0.26142\n",
      "[152]\ttrain-logloss:0.01515\tval-logloss:0.26188\n",
      "[153]\ttrain-logloss:0.01501\tval-logloss:0.26227\n",
      "[154]\ttrain-logloss:0.01486\tval-logloss:0.26287\n",
      "[155]\ttrain-logloss:0.01476\tval-logloss:0.26299\n",
      "[156]\ttrain-logloss:0.01462\tval-logloss:0.26346\n",
      "[157]\ttrain-logloss:0.01448\tval-logloss:0.26379\n",
      "[158]\ttrain-logloss:0.01434\tval-logloss:0.26306\n",
      "[159]\ttrain-logloss:0.01424\tval-logloss:0.26237\n",
      "[160]\ttrain-logloss:0.01410\tval-logloss:0.26251\n",
      "[161]\ttrain-logloss:0.01401\tval-logloss:0.26265\n",
      "[162]\ttrain-logloss:0.01392\tval-logloss:0.26264\n",
      "[163]\ttrain-logloss:0.01380\tval-logloss:0.26250\n",
      "[164]\ttrain-logloss:0.01372\tval-logloss:0.26264\n",
      "[165]\ttrain-logloss:0.01359\tval-logloss:0.26255\n",
      "[166]\ttrain-logloss:0.01350\tval-logloss:0.26188\n",
      "[167]\ttrain-logloss:0.01342\tval-logloss:0.26203\n",
      "[168]\ttrain-logloss:0.01331\tval-logloss:0.26190\n",
      "[169]\ttrain-logloss:0.01319\tval-logloss:0.26184\n",
      "[170]\ttrain-logloss:0.01312\tval-logloss:0.26133\n",
      "[171]\ttrain-logloss:0.01304\tval-logloss:0.26148\n",
      "[172]\ttrain-logloss:0.01297\tval-logloss:0.26157\n"
     ]
    },
    {
     "name": "stdout",
     "output_type": "stream",
     "text": [
      "[173]\ttrain-logloss:0.01285\tval-logloss:0.26253\n",
      "[174]\ttrain-logloss:0.01278\tval-logloss:0.26229\n",
      "[175]\ttrain-logloss:0.01267\tval-logloss:0.26086\n",
      "[176]\ttrain-logloss:0.01258\tval-logloss:0.26103\n"
     ]
    }
   ],
   "source": [
    "# xgboost\n",
    "eval_list = [(train,'train'),(val,'val')]\n",
    "xgb_model = xgb.train(params = params,\n",
    "                      dtrain = train,\n",
    "                      num_boost_round = num_rounds,\n",
    "                      early_stopping_rounds = 50,\n",
    "                      evals = eval_list)"
   ]
  },
  {
   "cell_type": "code",
   "execution_count": 20,
   "id": "9707456e",
   "metadata": {},
   "outputs": [
    {
     "name": "stdout",
     "output_type": "stream",
     "text": [
      "예측 확률\n",
      " [0.8448 0.0084 0.6796 0.0811 0.9751 0.9989 0.9983 0.9981 0.9964 0.0014]\n",
      "\n",
      "예측값 10개 표시\n",
      " [1, 0, 1, 0, 1, 1, 1, 1, 1, 0]\n"
     ]
    }
   ],
   "source": [
    "# 결과 확인\n",
    "import numpy as np\n",
    "y_pred_prob = xgb_model.predict(test)\n",
    "y_pred = [1 if x > 0.5 else 0 for x in y_pred_prob]\n",
    "print('예측 확률\\n', np.round(y_pred_prob[:10],4))\n",
    "print('\\n예측값 10개 표시\\n', y_pred[:10])"
   ]
  },
  {
   "cell_type": "code",
   "execution_count": 21,
   "id": "cbe5bc42",
   "metadata": {},
   "outputs": [],
   "source": [
    "# 패키지 \n",
    "from sklearn.metrics import confusion_matrix, precision_score, recall_score, f1_score, roc_auc_score\n",
    "# clf_eval() 함수 생성 및 결과 확인\n",
    "def clf_eval(y_test, pred = None, pred_proba = None) :\n",
    "    cm = confusion_matrix(y_test, pred)\n",
    "    accuracy = accuracy_score(y_test, pred)\n",
    "    precision = precision_score(y_test, pred)\n",
    "    recall = recall_score(y_test, pred)\n",
    "    # 결과 출력\n",
    "    print('오차행렬\\n', cm)\n",
    "    print('\\n정확도 : {:.4f}\\n정밀도 : {:.4f}\\n재현율 : {:.4f}'.format(accuracy, precision, recall))\n",
    "    # F1-score 추가\n",
    "    f1 = f1_score(y_test, pred)\n",
    "    print('F1 : {:.4f}'.format(f1))\n",
    "    # ROC-AUC\n",
    "    roc_auc = roc_auc_score(y_test, pred_proba)\n",
    "    print('AUC : {:.4f}'.format(roc_auc))"
   ]
  },
  {
   "cell_type": "code",
   "execution_count": 22,
   "id": "17ed44d6",
   "metadata": {},
   "outputs": [
    {
     "name": "stdout",
     "output_type": "stream",
     "text": [
      "오차행렬\n",
      " [[34  3]\n",
      " [ 2 75]]\n",
      "\n",
      "정확도 : 0.9561\n",
      "정밀도 : 0.9615\n",
      "재현율 : 0.9740\n",
      "F1 : 0.9677\n",
      "AUC : 0.9937\n"
     ]
    }
   ],
   "source": [
    "# 성능 평가\n",
    "clf_eval(Y_test, y_pred, y_pred_prob)"
   ]
  },
  {
   "cell_type": "code",
   "execution_count": 23,
   "id": "b62366f0",
   "metadata": {},
   "outputs": [
    {
     "data": {
      "text/plain": [
       "<AxesSubplot:title={'center':'Feature importance'}, xlabel='F score', ylabel='Features'>"
      ]
     },
     "execution_count": 23,
     "metadata": {},
     "output_type": "execute_result"
    },
    {
     "data": {
      "image/png": "[encoded data removed]",
      "text/plain": [
       "<Figure size 720x864 with 1 Axes>"
      ]
     },
     "metadata": {
      "needs_background": "light"
     },
     "output_type": "display_data"
    }
   ],
   "source": [
    "# Feature Importance\n",
    "fig, ax = plt.subplots(figsize=(10, 12))\n",
    "plot_importance(xgb_model, ax=ax)"
   ]
  },
  {
   "cell_type": "markdown",
   "id": "8659b609",
   "metadata": {},
   "source": [
    "### Wrapper"
   ]
  },
  {
   "cell_type": "code",
   "execution_count": 24,
   "id": "885f3156",
   "metadata": {},
   "outputs": [
    {
     "name": "stdout",
     "output_type": "stream",
     "text": [
      "오차행렬\n",
      " [[34  3]\n",
      " [ 1 76]]\n",
      "\n",
      "정확도 : 0.9649\n",
      "정밀도 : 0.9620\n",
      "재현율 : 0.9870\n",
      "F1 : 0.9744\n",
      "AUC : 0.9954\n"
     ]
    }
   ],
   "source": [
    "# wrapper 적용\n",
    "xgb_wrapper = XGBC(n_estimators = 400,\n",
    "                   learning_rate = 0.05,\n",
    "                   max_depth = 3,\n",
    "                   eval_metric = 'logloss')\n",
    "xgb_wrapper.fit(x_train, y_train, verbose = True)\n",
    "w_pred = xgb_wrapper.predict(X_test)\n",
    "w_pred_proba = xgb_wrapper.predict_proba(X_test)[:,1]\n",
    "# 결과 확인\n",
    "clf_eval(Y_test, w_pred, w_pred_proba)"
   ]
  },
  {
   "cell_type": "code",
   "execution_count": 25,
   "id": "d6fab953",
   "metadata": {},
   "outputs": [
    {
     "name": "stdout",
     "output_type": "stream",
     "text": [
      "[0]\tvalidation_0-logloss:0.65016\tvalidation_1-logloss:0.66183\n",
      "[1]\tvalidation_0-logloss:0.61131\tvalidation_1-logloss:0.63609\n",
      "[2]\tvalidation_0-logloss:0.57563\tvalidation_1-logloss:0.61144\n",
      "[3]\tvalidation_0-logloss:0.54310\tvalidation_1-logloss:0.59204\n",
      "[4]\tvalidation_0-logloss:0.51323\tvalidation_1-logloss:0.57329\n",
      "[5]\tvalidation_0-logloss:0.48447\tvalidation_1-logloss:0.55037\n",
      "[6]\tvalidation_0-logloss:0.45796\tvalidation_1-logloss:0.52930\n",
      "[7]\tvalidation_0-logloss:0.43436\tvalidation_1-logloss:0.51534\n",
      "[8]\tvalidation_0-logloss:0.41150\tvalidation_1-logloss:0.49718\n",
      "[9]\tvalidation_0-logloss:0.39027\tvalidation_1-logloss:0.48154\n",
      "[10]\tvalidation_0-logloss:0.37128\tvalidation_1-logloss:0.46990\n",
      "[11]\tvalidation_0-logloss:0.35254\tvalidation_1-logloss:0.45474\n",
      "[12]\tvalidation_0-logloss:0.33528\tvalidation_1-logloss:0.44229\n",
      "[13]\tvalidation_0-logloss:0.31892\tvalidation_1-logloss:0.42961\n",
      "[14]\tvalidation_0-logloss:0.30439\tvalidation_1-logloss:0.42065\n",
      "[15]\tvalidation_0-logloss:0.29000\tvalidation_1-logloss:0.40958\n",
      "[16]\tvalidation_0-logloss:0.27651\tvalidation_1-logloss:0.39887\n",
      "[17]\tvalidation_0-logloss:0.26389\tvalidation_1-logloss:0.39050\n",
      "[18]\tvalidation_0-logloss:0.25210\tvalidation_1-logloss:0.38254\n",
      "[19]\tvalidation_0-logloss:0.24123\tvalidation_1-logloss:0.37393\n",
      "[20]\tvalidation_0-logloss:0.23076\tvalidation_1-logloss:0.36789\n",
      "[21]\tvalidation_0-logloss:0.22091\tvalidation_1-logloss:0.36017\n",
      "[22]\tvalidation_0-logloss:0.21155\tvalidation_1-logloss:0.35421\n",
      "[23]\tvalidation_0-logloss:0.20263\tvalidation_1-logloss:0.34683\n",
      "[24]\tvalidation_0-logloss:0.19434\tvalidation_1-logloss:0.34111\n",
      "[25]\tvalidation_0-logloss:0.18637\tvalidation_1-logloss:0.33634\n",
      "[26]\tvalidation_0-logloss:0.17875\tvalidation_1-logloss:0.33082\n",
      "[27]\tvalidation_0-logloss:0.17167\tvalidation_1-logloss:0.32675\n",
      "[28]\tvalidation_0-logloss:0.16481\tvalidation_1-logloss:0.32099\n",
      "[29]\tvalidation_0-logloss:0.15835\tvalidation_1-logloss:0.31671\n",
      "[30]\tvalidation_0-logloss:0.15225\tvalidation_1-logloss:0.31277\n",
      "[31]\tvalidation_0-logloss:0.14650\tvalidation_1-logloss:0.30882\n",
      "[32]\tvalidation_0-logloss:0.14102\tvalidation_1-logloss:0.30437\n",
      "[33]\tvalidation_0-logloss:0.13590\tvalidation_1-logloss:0.30103\n",
      "[34]\tvalidation_0-logloss:0.13109\tvalidation_1-logloss:0.29794\n",
      "[35]\tvalidation_0-logloss:0.12647\tvalidation_1-logloss:0.29499\n",
      "[36]\tvalidation_0-logloss:0.12197\tvalidation_1-logloss:0.29295\n",
      "[37]\tvalidation_0-logloss:0.11784\tvalidation_1-logloss:0.29043\n",
      "[38]\tvalidation_0-logloss:0.11379\tvalidation_1-logloss:0.28927\n",
      "[39]\tvalidation_0-logloss:0.10994\tvalidation_1-logloss:0.28578\n",
      "[40]\tvalidation_0-logloss:0.10638\tvalidation_1-logloss:0.28364\n",
      "[41]\tvalidation_0-logloss:0.10302\tvalidation_1-logloss:0.28183\n",
      "[42]\tvalidation_0-logloss:0.09963\tvalidation_1-logloss:0.28005\n",
      "[43]\tvalidation_0-logloss:0.09649\tvalidation_1-logloss:0.27972\n",
      "[44]\tvalidation_0-logloss:0.09359\tvalidation_1-logloss:0.27744\n",
      "[45]\tvalidation_0-logloss:0.09080\tvalidation_1-logloss:0.27542\n",
      "[46]\tvalidation_0-logloss:0.08807\tvalidation_1-logloss:0.27504\n",
      "[47]\tvalidation_0-logloss:0.08541\tvalidation_1-logloss:0.27458\n",
      "[48]\tvalidation_0-logloss:0.08299\tvalidation_1-logloss:0.27348\n",
      "[49]\tvalidation_0-logloss:0.08035\tvalidation_1-logloss:0.27247\n",
      "[50]\tvalidation_0-logloss:0.07786\tvalidation_1-logloss:0.27163\n",
      "[51]\tvalidation_0-logloss:0.07550\tvalidation_1-logloss:0.27094\n",
      "[52]\tvalidation_0-logloss:0.07344\tvalidation_1-logloss:0.26967\n",
      "[53]\tvalidation_0-logloss:0.07147\tvalidation_1-logloss:0.27008\n",
      "[54]\tvalidation_0-logloss:0.06964\tvalidation_1-logloss:0.26890\n",
      "[55]\tvalidation_0-logloss:0.06766\tvalidation_1-logloss:0.26854\n",
      "[56]\tvalidation_0-logloss:0.06591\tvalidation_1-logloss:0.26900\n",
      "[57]\tvalidation_0-logloss:0.06433\tvalidation_1-logloss:0.26790\n",
      "[58]\tvalidation_0-logloss:0.06259\tvalidation_1-logloss:0.26663\n",
      "[59]\tvalidation_0-logloss:0.06107\tvalidation_1-logloss:0.26743\n",
      "[60]\tvalidation_0-logloss:0.05957\tvalidation_1-logloss:0.26610\n",
      "[61]\tvalidation_0-logloss:0.05817\tvalidation_1-logloss:0.26644\n",
      "[62]\tvalidation_0-logloss:0.05691\tvalidation_1-logloss:0.26673\n",
      "[63]\tvalidation_0-logloss:0.05550\tvalidation_1-logloss:0.26550\n",
      "[64]\tvalidation_0-logloss:0.05422\tvalidation_1-logloss:0.26443\n",
      "[65]\tvalidation_0-logloss:0.05311\tvalidation_1-logloss:0.26500\n",
      "[66]\tvalidation_0-logloss:0.05207\tvalidation_1-logloss:0.26591\n",
      "[67]\tvalidation_0-logloss:0.05093\tvalidation_1-logloss:0.26501\n",
      "[68]\tvalidation_0-logloss:0.04976\tvalidation_1-logloss:0.26435\n",
      "[69]\tvalidation_0-logloss:0.04872\tvalidation_1-logloss:0.26360\n",
      "[70]\tvalidation_0-logloss:0.04776\tvalidation_1-logloss:0.26319\n",
      "[71]\tvalidation_0-logloss:0.04680\tvalidation_1-logloss:0.26255\n",
      "[72]\tvalidation_0-logloss:0.04580\tvalidation_1-logloss:0.26204\n",
      "[73]\tvalidation_0-logloss:0.04484\tvalidation_1-logloss:0.26254\n",
      "[74]\tvalidation_0-logloss:0.04388\tvalidation_1-logloss:0.26289\n",
      "[75]\tvalidation_0-logloss:0.04309\tvalidation_1-logloss:0.26249\n",
      "[76]\tvalidation_0-logloss:0.04224\tvalidation_1-logloss:0.26217\n",
      "[77]\tvalidation_0-logloss:0.04133\tvalidation_1-logloss:0.26166\n",
      "[78]\tvalidation_0-logloss:0.04050\tvalidation_1-logloss:0.26179\n",
      "[79]\tvalidation_0-logloss:0.03967\tvalidation_1-logloss:0.26103\n",
      "[80]\tvalidation_0-logloss:0.03876\tvalidation_1-logloss:0.26094\n",
      "[81]\tvalidation_0-logloss:0.03806\tvalidation_1-logloss:0.26148\n",
      "[82]\tvalidation_0-logloss:0.03740\tvalidation_1-logloss:0.26054\n",
      "[83]\tvalidation_0-logloss:0.03676\tvalidation_1-logloss:0.25967\n",
      "[84]\tvalidation_0-logloss:0.03605\tvalidation_1-logloss:0.25905\n",
      "[85]\tvalidation_0-logloss:0.03545\tvalidation_1-logloss:0.26007\n",
      "[86]\tvalidation_0-logloss:0.03489\tvalidation_1-logloss:0.25984\n",
      "[87]\tvalidation_0-logloss:0.03425\tvalidation_1-logloss:0.25933\n",
      "[88]\tvalidation_0-logloss:0.03361\tvalidation_1-logloss:0.25932\n",
      "[89]\tvalidation_0-logloss:0.03311\tvalidation_1-logloss:0.26002\n",
      "[90]\tvalidation_0-logloss:0.03260\tvalidation_1-logloss:0.25936\n",
      "[91]\tvalidation_0-logloss:0.03202\tvalidation_1-logloss:0.25886\n",
      "[92]\tvalidation_0-logloss:0.03152\tvalidation_1-logloss:0.25918\n",
      "[93]\tvalidation_0-logloss:0.03107\tvalidation_1-logloss:0.25864\n",
      "[94]\tvalidation_0-logloss:0.03049\tvalidation_1-logloss:0.25951\n",
      "[95]\tvalidation_0-logloss:0.03007\tvalidation_1-logloss:0.26091\n",
      "[96]\tvalidation_0-logloss:0.02963\tvalidation_1-logloss:0.26014\n",
      "[97]\tvalidation_0-logloss:0.02913\tvalidation_1-logloss:0.25974\n",
      "[98]\tvalidation_0-logloss:0.02866\tvalidation_1-logloss:0.25937\n",
      "[99]\tvalidation_0-logloss:0.02829\tvalidation_1-logloss:0.25893\n",
      "[100]\tvalidation_0-logloss:0.02789\tvalidation_1-logloss:0.25928\n",
      "[101]\tvalidation_0-logloss:0.02751\tvalidation_1-logloss:0.25955\n",
      "[102]\tvalidation_0-logloss:0.02714\tvalidation_1-logloss:0.25901\n",
      "[103]\tvalidation_0-logloss:0.02668\tvalidation_1-logloss:0.25991\n",
      "[104]\tvalidation_0-logloss:0.02634\tvalidation_1-logloss:0.25950\n",
      "[105]\tvalidation_0-logloss:0.02594\tvalidation_1-logloss:0.25924\n",
      "[106]\tvalidation_0-logloss:0.02556\tvalidation_1-logloss:0.25901\n",
      "[107]\tvalidation_0-logloss:0.02522\tvalidation_1-logloss:0.25738\n",
      "[108]\tvalidation_0-logloss:0.02492\tvalidation_1-logloss:0.25702\n",
      "[109]\tvalidation_0-logloss:0.02453\tvalidation_1-logloss:0.25789\n",
      "[110]\tvalidation_0-logloss:0.02418\tvalidation_1-logloss:0.25770\n",
      "[111]\tvalidation_0-logloss:0.02384\tvalidation_1-logloss:0.25842\n",
      "[112]\tvalidation_0-logloss:0.02356\tvalidation_1-logloss:0.25810\n",
      "[113]\tvalidation_0-logloss:0.02322\tvalidation_1-logloss:0.25848\n",
      "[114]\tvalidation_0-logloss:0.02290\tvalidation_1-logloss:0.25833\n",
      "[115]\tvalidation_0-logloss:0.02260\tvalidation_1-logloss:0.25820\n",
      "[116]\tvalidation_0-logloss:0.02229\tvalidation_1-logloss:0.25905\n",
      "[117]\tvalidation_0-logloss:0.02204\tvalidation_1-logloss:0.25878\n",
      "[118]\tvalidation_0-logloss:0.02176\tvalidation_1-logloss:0.25728\n",
      "[119]\tvalidation_0-logloss:0.02149\tvalidation_1-logloss:0.25722\n",
      "[120]\tvalidation_0-logloss:0.02119\tvalidation_1-logloss:0.25764\n",
      "[121]\tvalidation_0-logloss:0.02095\tvalidation_1-logloss:0.25761\n",
      "[122]\tvalidation_0-logloss:0.02067\tvalidation_1-logloss:0.25832\n",
      "[123]\tvalidation_0-logloss:0.02045\tvalidation_1-logloss:0.25808\n",
      "[124]\tvalidation_0-logloss:0.02023\tvalidation_1-logloss:0.25855\n",
      "[125]\tvalidation_0-logloss:0.01998\tvalidation_1-logloss:0.25714\n",
      "[126]\tvalidation_0-logloss:0.01973\tvalidation_1-logloss:0.25587\n",
      "[127]\tvalidation_0-logloss:0.01946\tvalidation_1-logloss:0.25640\n",
      "[128]\tvalidation_0-logloss:0.01927\tvalidation_1-logloss:0.25685\n",
      "[129]\tvalidation_0-logloss:0.01908\tvalidation_1-logloss:0.25665\n"
     ]
    },
    {
     "name": "stdout",
     "output_type": "stream",
     "text": [
      "[130]\tvalidation_0-logloss:0.01886\tvalidation_1-logloss:0.25712\n",
      "[131]\tvalidation_0-logloss:0.01863\tvalidation_1-logloss:0.25609\n",
      "[132]\tvalidation_0-logloss:0.01839\tvalidation_1-logloss:0.25649\n",
      "[133]\tvalidation_0-logloss:0.01816\tvalidation_1-logloss:0.25789\n",
      "[134]\tvalidation_0-logloss:0.01802\tvalidation_1-logloss:0.25811\n",
      "[135]\tvalidation_0-logloss:0.01785\tvalidation_1-logloss:0.25794\n",
      "[136]\tvalidation_0-logloss:0.01763\tvalidation_1-logloss:0.25876\n",
      "[137]\tvalidation_0-logloss:0.01748\tvalidation_1-logloss:0.25884\n",
      "[138]\tvalidation_0-logloss:0.01732\tvalidation_1-logloss:0.25867\n",
      "[139]\tvalidation_0-logloss:0.01719\tvalidation_1-logloss:0.25876\n",
      "[140]\tvalidation_0-logloss:0.01696\tvalidation_1-logloss:0.25987\n",
      "[141]\tvalidation_0-logloss:0.01681\tvalidation_1-logloss:0.25960\n",
      "[142]\tvalidation_0-logloss:0.01669\tvalidation_1-logloss:0.25982\n",
      "[143]\tvalidation_0-logloss:0.01656\tvalidation_1-logloss:0.25992\n",
      "[144]\tvalidation_0-logloss:0.01638\tvalidation_1-logloss:0.26035\n",
      "[145]\tvalidation_0-logloss:0.01623\tvalidation_1-logloss:0.26055\n",
      "[146]\tvalidation_0-logloss:0.01606\tvalidation_1-logloss:0.26092\n",
      "[147]\tvalidation_0-logloss:0.01589\tvalidation_1-logloss:0.26137\n",
      "[148]\tvalidation_0-logloss:0.01572\tvalidation_1-logloss:0.25999\n",
      "[149]\tvalidation_0-logloss:0.01556\tvalidation_1-logloss:0.26028\n",
      "[150]\tvalidation_0-logloss:0.01546\tvalidation_1-logloss:0.26048\n",
      "[151]\tvalidation_0-logloss:0.01531\tvalidation_1-logloss:0.26142\n",
      "[152]\tvalidation_0-logloss:0.01515\tvalidation_1-logloss:0.26188\n",
      "[153]\tvalidation_0-logloss:0.01501\tvalidation_1-logloss:0.26227\n",
      "[154]\tvalidation_0-logloss:0.01486\tvalidation_1-logloss:0.26287\n",
      "[155]\tvalidation_0-logloss:0.01476\tvalidation_1-logloss:0.26299\n",
      "[156]\tvalidation_0-logloss:0.01462\tvalidation_1-logloss:0.26346\n",
      "[157]\tvalidation_0-logloss:0.01448\tvalidation_1-logloss:0.26379\n",
      "[158]\tvalidation_0-logloss:0.01434\tvalidation_1-logloss:0.26306\n",
      "[159]\tvalidation_0-logloss:0.01424\tvalidation_1-logloss:0.26237\n",
      "[160]\tvalidation_0-logloss:0.01410\tvalidation_1-logloss:0.26251\n",
      "[161]\tvalidation_0-logloss:0.01401\tvalidation_1-logloss:0.26265\n",
      "[162]\tvalidation_0-logloss:0.01392\tvalidation_1-logloss:0.26264\n",
      "[163]\tvalidation_0-logloss:0.01380\tvalidation_1-logloss:0.26250\n",
      "[164]\tvalidation_0-logloss:0.01372\tvalidation_1-logloss:0.26264\n",
      "[165]\tvalidation_0-logloss:0.01359\tvalidation_1-logloss:0.26255\n",
      "[166]\tvalidation_0-logloss:0.01350\tvalidation_1-logloss:0.26188\n",
      "[167]\tvalidation_0-logloss:0.01342\tvalidation_1-logloss:0.26203\n",
      "[168]\tvalidation_0-logloss:0.01331\tvalidation_1-logloss:0.26190\n",
      "[169]\tvalidation_0-logloss:0.01319\tvalidation_1-logloss:0.26184\n",
      "[170]\tvalidation_0-logloss:0.01312\tvalidation_1-logloss:0.26133\n",
      "[171]\tvalidation_0-logloss:0.01304\tvalidation_1-logloss:0.26148\n",
      "[172]\tvalidation_0-logloss:0.01297\tvalidation_1-logloss:0.26157\n",
      "[173]\tvalidation_0-logloss:0.01285\tvalidation_1-logloss:0.26253\n",
      "[174]\tvalidation_0-logloss:0.01278\tvalidation_1-logloss:0.26229\n",
      "[175]\tvalidation_0-logloss:0.01267\tvalidation_1-logloss:0.26086\n",
      "[176]\tvalidation_0-logloss:0.01258\tvalidation_1-logloss:0.26103\n"
     ]
    }
   ],
   "source": [
    "# early stopping 50\n",
    "xgb_wrapper = XGBC(n_estimators = 400,\n",
    "                   learning_rate = 0.05,\n",
    "                   max_depth = 3)\n",
    "evals = [(X_train, Y_train), (X_val, Y_val)]\n",
    "xgb_wrapper.fit(X_train, Y_train,\n",
    "                early_stopping_rounds = 50,\n",
    "                eval_metric = 'logloss',\n",
    "                eval_set = evals,\n",
    "                verbose = True)\n",
    "w50_pred = xgb_wrapper.predict(X_test)\n",
    "w50_pred_proba = xgb_wrapper.predict_proba(X_test)[:,1]"
   ]
  },
  {
   "cell_type": "code",
   "execution_count": 26,
   "id": "d73806a2",
   "metadata": {},
   "outputs": [
    {
     "name": "stdout",
     "output_type": "stream",
     "text": [
      "오차행렬\n",
      " [[34  3]\n",
      " [ 2 75]]\n",
      "\n",
      "정확도 : 0.9561\n",
      "정밀도 : 0.9615\n",
      "재현율 : 0.9740\n",
      "F1 : 0.9677\n",
      "AUC : 0.9933\n"
     ]
    }
   ],
   "source": [
    "# 성능 평가\n",
    "clf_eval(Y_test, w50_pred, w50_pred_proba)"
   ]
  },
  {
   "cell_type": "code",
   "execution_count": 27,
   "id": "a94c02f5",
   "metadata": {
    "scrolled": true
   },
   "outputs": [
    {
     "name": "stdout",
     "output_type": "stream",
     "text": [
      "[0]\tvalidation_0-logloss:0.65016\tvalidation_1-logloss:0.66183\n",
      "[1]\tvalidation_0-logloss:0.61131\tvalidation_1-logloss:0.63609\n",
      "[2]\tvalidation_0-logloss:0.57563\tvalidation_1-logloss:0.61144\n",
      "[3]\tvalidation_0-logloss:0.54310\tvalidation_1-logloss:0.59204\n",
      "[4]\tvalidation_0-logloss:0.51323\tvalidation_1-logloss:0.57329\n",
      "[5]\tvalidation_0-logloss:0.48447\tvalidation_1-logloss:0.55037\n",
      "[6]\tvalidation_0-logloss:0.45796\tvalidation_1-logloss:0.52930\n",
      "[7]\tvalidation_0-logloss:0.43436\tvalidation_1-logloss:0.51534\n",
      "[8]\tvalidation_0-logloss:0.41150\tvalidation_1-logloss:0.49718\n",
      "[9]\tvalidation_0-logloss:0.39027\tvalidation_1-logloss:0.48154\n",
      "[10]\tvalidation_0-logloss:0.37128\tvalidation_1-logloss:0.46990\n",
      "[11]\tvalidation_0-logloss:0.35254\tvalidation_1-logloss:0.45474\n",
      "[12]\tvalidation_0-logloss:0.33528\tvalidation_1-logloss:0.44229\n",
      "[13]\tvalidation_0-logloss:0.31892\tvalidation_1-logloss:0.42961\n",
      "[14]\tvalidation_0-logloss:0.30439\tvalidation_1-logloss:0.42065\n",
      "[15]\tvalidation_0-logloss:0.29000\tvalidation_1-logloss:0.40958\n",
      "[16]\tvalidation_0-logloss:0.27651\tvalidation_1-logloss:0.39887\n",
      "[17]\tvalidation_0-logloss:0.26389\tvalidation_1-logloss:0.39050\n",
      "[18]\tvalidation_0-logloss:0.25210\tvalidation_1-logloss:0.38254\n",
      "[19]\tvalidation_0-logloss:0.24123\tvalidation_1-logloss:0.37393\n",
      "[20]\tvalidation_0-logloss:0.23076\tvalidation_1-logloss:0.36789\n",
      "[21]\tvalidation_0-logloss:0.22091\tvalidation_1-logloss:0.36017\n",
      "[22]\tvalidation_0-logloss:0.21155\tvalidation_1-logloss:0.35421\n",
      "[23]\tvalidation_0-logloss:0.20263\tvalidation_1-logloss:0.34683\n",
      "[24]\tvalidation_0-logloss:0.19434\tvalidation_1-logloss:0.34111\n",
      "[25]\tvalidation_0-logloss:0.18637\tvalidation_1-logloss:0.33634\n",
      "[26]\tvalidation_0-logloss:0.17875\tvalidation_1-logloss:0.33082\n",
      "[27]\tvalidation_0-logloss:0.17167\tvalidation_1-logloss:0.32675\n",
      "[28]\tvalidation_0-logloss:0.16481\tvalidation_1-logloss:0.32099\n",
      "[29]\tvalidation_0-logloss:0.15835\tvalidation_1-logloss:0.31671\n",
      "[30]\tvalidation_0-logloss:0.15225\tvalidation_1-logloss:0.31277\n",
      "[31]\tvalidation_0-logloss:0.14650\tvalidation_1-logloss:0.30882\n",
      "[32]\tvalidation_0-logloss:0.14102\tvalidation_1-logloss:0.30437\n",
      "[33]\tvalidation_0-logloss:0.13590\tvalidation_1-logloss:0.30103\n",
      "[34]\tvalidation_0-logloss:0.13109\tvalidation_1-logloss:0.29794\n",
      "[35]\tvalidation_0-logloss:0.12647\tvalidation_1-logloss:0.29499\n",
      "[36]\tvalidation_0-logloss:0.12197\tvalidation_1-logloss:0.29295\n",
      "[37]\tvalidation_0-logloss:0.11784\tvalidation_1-logloss:0.29043\n",
      "[38]\tvalidation_0-logloss:0.11379\tvalidation_1-logloss:0.28927\n",
      "[39]\tvalidation_0-logloss:0.10994\tvalidation_1-logloss:0.28578\n",
      "[40]\tvalidation_0-logloss:0.10638\tvalidation_1-logloss:0.28364\n",
      "[41]\tvalidation_0-logloss:0.10302\tvalidation_1-logloss:0.28183\n",
      "[42]\tvalidation_0-logloss:0.09963\tvalidation_1-logloss:0.28005\n",
      "[43]\tvalidation_0-logloss:0.09649\tvalidation_1-logloss:0.27972\n",
      "[44]\tvalidation_0-logloss:0.09359\tvalidation_1-logloss:0.27744\n",
      "[45]\tvalidation_0-logloss:0.09080\tvalidation_1-logloss:0.27542\n",
      "[46]\tvalidation_0-logloss:0.08807\tvalidation_1-logloss:0.27504\n",
      "[47]\tvalidation_0-logloss:0.08541\tvalidation_1-logloss:0.27458\n",
      "[48]\tvalidation_0-logloss:0.08299\tvalidation_1-logloss:0.27348\n",
      "[49]\tvalidation_0-logloss:0.08035\tvalidation_1-logloss:0.27247\n",
      "[50]\tvalidation_0-logloss:0.07786\tvalidation_1-logloss:0.27163\n",
      "[51]\tvalidation_0-logloss:0.07550\tvalidation_1-logloss:0.27094\n",
      "[52]\tvalidation_0-logloss:0.07344\tvalidation_1-logloss:0.26967\n",
      "[53]\tvalidation_0-logloss:0.07147\tvalidation_1-logloss:0.27008\n",
      "[54]\tvalidation_0-logloss:0.06964\tvalidation_1-logloss:0.26890\n",
      "[55]\tvalidation_0-logloss:0.06766\tvalidation_1-logloss:0.26854\n",
      "[56]\tvalidation_0-logloss:0.06591\tvalidation_1-logloss:0.26900\n",
      "[57]\tvalidation_0-logloss:0.06433\tvalidation_1-logloss:0.26790\n",
      "[58]\tvalidation_0-logloss:0.06259\tvalidation_1-logloss:0.26663\n",
      "[59]\tvalidation_0-logloss:0.06107\tvalidation_1-logloss:0.26743\n",
      "[60]\tvalidation_0-logloss:0.05957\tvalidation_1-logloss:0.26610\n",
      "[61]\tvalidation_0-logloss:0.05817\tvalidation_1-logloss:0.26644\n",
      "[62]\tvalidation_0-logloss:0.05691\tvalidation_1-logloss:0.26673\n",
      "[63]\tvalidation_0-logloss:0.05550\tvalidation_1-logloss:0.26550\n",
      "[64]\tvalidation_0-logloss:0.05422\tvalidation_1-logloss:0.26443\n",
      "[65]\tvalidation_0-logloss:0.05311\tvalidation_1-logloss:0.26500\n",
      "[66]\tvalidation_0-logloss:0.05207\tvalidation_1-logloss:0.26591\n",
      "[67]\tvalidation_0-logloss:0.05093\tvalidation_1-logloss:0.26501\n",
      "[68]\tvalidation_0-logloss:0.04976\tvalidation_1-logloss:0.26435\n",
      "[69]\tvalidation_0-logloss:0.04872\tvalidation_1-logloss:0.26360\n",
      "[70]\tvalidation_0-logloss:0.04776\tvalidation_1-logloss:0.26319\n",
      "[71]\tvalidation_0-logloss:0.04680\tvalidation_1-logloss:0.26255\n",
      "[72]\tvalidation_0-logloss:0.04580\tvalidation_1-logloss:0.26204\n",
      "[73]\tvalidation_0-logloss:0.04484\tvalidation_1-logloss:0.26254\n",
      "[74]\tvalidation_0-logloss:0.04388\tvalidation_1-logloss:0.26289\n",
      "[75]\tvalidation_0-logloss:0.04309\tvalidation_1-logloss:0.26249\n",
      "[76]\tvalidation_0-logloss:0.04224\tvalidation_1-logloss:0.26217\n",
      "[77]\tvalidation_0-logloss:0.04133\tvalidation_1-logloss:0.26166\n",
      "[78]\tvalidation_0-logloss:0.04050\tvalidation_1-logloss:0.26179\n",
      "[79]\tvalidation_0-logloss:0.03967\tvalidation_1-logloss:0.26103\n",
      "[80]\tvalidation_0-logloss:0.03876\tvalidation_1-logloss:0.26094\n",
      "[81]\tvalidation_0-logloss:0.03806\tvalidation_1-logloss:0.26148\n",
      "[82]\tvalidation_0-logloss:0.03740\tvalidation_1-logloss:0.26054\n",
      "[83]\tvalidation_0-logloss:0.03676\tvalidation_1-logloss:0.25967\n",
      "[84]\tvalidation_0-logloss:0.03605\tvalidation_1-logloss:0.25905\n",
      "[85]\tvalidation_0-logloss:0.03545\tvalidation_1-logloss:0.26007\n",
      "[86]\tvalidation_0-logloss:0.03489\tvalidation_1-logloss:0.25984\n",
      "[87]\tvalidation_0-logloss:0.03425\tvalidation_1-logloss:0.25933\n",
      "[88]\tvalidation_0-logloss:0.03361\tvalidation_1-logloss:0.25932\n",
      "[89]\tvalidation_0-logloss:0.03311\tvalidation_1-logloss:0.26002\n",
      "[90]\tvalidation_0-logloss:0.03260\tvalidation_1-logloss:0.25936\n",
      "[91]\tvalidation_0-logloss:0.03202\tvalidation_1-logloss:0.25886\n",
      "[92]\tvalidation_0-logloss:0.03152\tvalidation_1-logloss:0.25918\n",
      "[93]\tvalidation_0-logloss:0.03107\tvalidation_1-logloss:0.25864\n",
      "[94]\tvalidation_0-logloss:0.03049\tvalidation_1-logloss:0.25951\n",
      "[95]\tvalidation_0-logloss:0.03007\tvalidation_1-logloss:0.26091\n",
      "[96]\tvalidation_0-logloss:0.02963\tvalidation_1-logloss:0.26014\n",
      "[97]\tvalidation_0-logloss:0.02913\tvalidation_1-logloss:0.25974\n",
      "[98]\tvalidation_0-logloss:0.02866\tvalidation_1-logloss:0.25937\n",
      "[99]\tvalidation_0-logloss:0.02829\tvalidation_1-logloss:0.25893\n",
      "[100]\tvalidation_0-logloss:0.02789\tvalidation_1-logloss:0.25928\n",
      "[101]\tvalidation_0-logloss:0.02751\tvalidation_1-logloss:0.25955\n",
      "[102]\tvalidation_0-logloss:0.02714\tvalidation_1-logloss:0.25901\n",
      "[103]\tvalidation_0-logloss:0.02668\tvalidation_1-logloss:0.25991\n"
     ]
    }
   ],
   "source": [
    "# early stopping 10\n",
    "xgb_wrapper.fit(X_train, Y_train,\n",
    "                early_stopping_rounds = 10,\n",
    "                eval_metric = 'logloss',\n",
    "                eval_set = evals,\n",
    "                verbose = True)\n",
    "w10_pred = xgb_wrapper.predict(X_test)\n",
    "w10_pred_proba = xgb_wrapper.predict_proba(X_test)[:,1]"
   ]
  },
  {
   "cell_type": "code",
   "execution_count": 28,
   "id": "079bbedb",
   "metadata": {},
   "outputs": [
    {
     "name": "stdout",
     "output_type": "stream",
     "text": [
      "오차행렬\n",
      " [[34  3]\n",
      " [ 3 74]]\n",
      "\n",
      "정확도 : 0.9474\n",
      "정밀도 : 0.9610\n",
      "재현율 : 0.9610\n",
      "F1 : 0.9610\n",
      "AUC : 0.9933\n"
     ]
    }
   ],
   "source": [
    "# 성능 평가\n",
    "clf_eval(Y_test, w10_pred, w10_pred_proba)"
   ]
  },
  {
   "cell_type": "code",
   "execution_count": 29,
   "id": "9d53ff51",
   "metadata": {},
   "outputs": [
    {
     "data": {
      "text/plain": [
       "<AxesSubplot:title={'center':'Feature importance'}, xlabel='F score', ylabel='Features'>"
      ]
     },
     "execution_count": 29,
     "metadata": {},
     "output_type": "execute_result"
    },
    {
     "data": {
      "image/png": "[encoded data removed]",
      "text/plain": [
       "<Figure size 720x864 with 1 Axes>"
      ]
     },
     "metadata": {
      "needs_background": "light"
     },
     "output_type": "display_data"
    }
   ],
   "source": [
    "# Feature Importance\n",
    "fig, ax = plt.subplots(figsize=(10, 12))\n",
    "plot_importance(xgb_wrapper, ax=ax)"
   ]
  },
  {
   "cell_type": "markdown",
   "id": "587b7812",
   "metadata": {},
   "source": [
    "# LightGBM"
   ]
  },
  {
   "cell_type": "code",
   "execution_count": 30,
   "id": "3c1b7995",
   "metadata": {},
   "outputs": [
    {
     "name": "stdout",
     "output_type": "stream",
     "text": [
      "[1]\ttraining's binary_logloss: 0.625671\tvalid_1's binary_logloss: 0.628248\n",
      "[2]\ttraining's binary_logloss: 0.588173\tvalid_1's binary_logloss: 0.601106\n",
      "[3]\ttraining's binary_logloss: 0.554518\tvalid_1's binary_logloss: 0.577587\n",
      "[4]\ttraining's binary_logloss: 0.523972\tvalid_1's binary_logloss: 0.556324\n",
      "[5]\ttraining's binary_logloss: 0.49615\tvalid_1's binary_logloss: 0.537407\n",
      "[6]\ttraining's binary_logloss: 0.470108\tvalid_1's binary_logloss: 0.519401\n",
      "[7]\ttraining's binary_logloss: 0.446647\tvalid_1's binary_logloss: 0.502637\n",
      "[8]\ttraining's binary_logloss: 0.425055\tvalid_1's binary_logloss: 0.488311\n",
      "[9]\ttraining's binary_logloss: 0.405125\tvalid_1's binary_logloss: 0.474664\n",
      "[10]\ttraining's binary_logloss: 0.386526\tvalid_1's binary_logloss: 0.461267\n",
      "[11]\ttraining's binary_logloss: 0.367027\tvalid_1's binary_logloss: 0.444274\n",
      "[12]\ttraining's binary_logloss: 0.350713\tvalid_1's binary_logloss: 0.432755\n",
      "[13]\ttraining's binary_logloss: 0.334601\tvalid_1's binary_logloss: 0.421371\n",
      "[14]\ttraining's binary_logloss: 0.319854\tvalid_1's binary_logloss: 0.411418\n",
      "[15]\ttraining's binary_logloss: 0.306374\tvalid_1's binary_logloss: 0.402989\n",
      "[16]\ttraining's binary_logloss: 0.293116\tvalid_1's binary_logloss: 0.393973\n",
      "[17]\ttraining's binary_logloss: 0.280812\tvalid_1's binary_logloss: 0.384801\n",
      "[18]\ttraining's binary_logloss: 0.268352\tvalid_1's binary_logloss: 0.376191\n",
      "[19]\ttraining's binary_logloss: 0.256942\tvalid_1's binary_logloss: 0.368378\n",
      "[20]\ttraining's binary_logloss: 0.246443\tvalid_1's binary_logloss: 0.362062\n",
      "[21]\ttraining's binary_logloss: 0.236874\tvalid_1's binary_logloss: 0.355162\n",
      "[22]\ttraining's binary_logloss: 0.227501\tvalid_1's binary_logloss: 0.348933\n",
      "[23]\ttraining's binary_logloss: 0.218988\tvalid_1's binary_logloss: 0.342819\n",
      "[24]\ttraining's binary_logloss: 0.210621\tvalid_1's binary_logloss: 0.337386\n",
      "[25]\ttraining's binary_logloss: 0.202076\tvalid_1's binary_logloss: 0.331523\n",
      "[26]\ttraining's binary_logloss: 0.194199\tvalid_1's binary_logloss: 0.326349\n",
      "[27]\ttraining's binary_logloss: 0.187107\tvalid_1's binary_logloss: 0.322785\n",
      "[28]\ttraining's binary_logloss: 0.180535\tvalid_1's binary_logloss: 0.317877\n",
      "[29]\ttraining's binary_logloss: 0.173834\tvalid_1's binary_logloss: 0.313928\n",
      "[30]\ttraining's binary_logloss: 0.167198\tvalid_1's binary_logloss: 0.310105\n",
      "[31]\ttraining's binary_logloss: 0.161229\tvalid_1's binary_logloss: 0.307107\n",
      "[32]\ttraining's binary_logloss: 0.155494\tvalid_1's binary_logloss: 0.303837\n",
      "[33]\ttraining's binary_logloss: 0.149125\tvalid_1's binary_logloss: 0.300315\n",
      "[34]\ttraining's binary_logloss: 0.144045\tvalid_1's binary_logloss: 0.297816\n",
      "[35]\ttraining's binary_logloss: 0.139341\tvalid_1's binary_logloss: 0.295387\n",
      "[36]\ttraining's binary_logloss: 0.134625\tvalid_1's binary_logloss: 0.293063\n",
      "[37]\ttraining's binary_logloss: 0.129167\tvalid_1's binary_logloss: 0.289127\n",
      "[38]\ttraining's binary_logloss: 0.12472\tvalid_1's binary_logloss: 0.288697\n",
      "[39]\ttraining's binary_logloss: 0.11974\tvalid_1's binary_logloss: 0.28576\n",
      "[40]\ttraining's binary_logloss: 0.115054\tvalid_1's binary_logloss: 0.282853\n",
      "[41]\ttraining's binary_logloss: 0.110662\tvalid_1's binary_logloss: 0.279441\n",
      "[42]\ttraining's binary_logloss: 0.106358\tvalid_1's binary_logloss: 0.28113\n",
      "[43]\ttraining's binary_logloss: 0.102324\tvalid_1's binary_logloss: 0.279139\n",
      "[44]\ttraining's binary_logloss: 0.0985699\tvalid_1's binary_logloss: 0.276465\n",
      "[45]\ttraining's binary_logloss: 0.094858\tvalid_1's binary_logloss: 0.275946\n",
      "[46]\ttraining's binary_logloss: 0.0912486\tvalid_1's binary_logloss: 0.272819\n",
      "[47]\ttraining's binary_logloss: 0.0883115\tvalid_1's binary_logloss: 0.272306\n",
      "[48]\ttraining's binary_logloss: 0.0849963\tvalid_1's binary_logloss: 0.270452\n",
      "[49]\ttraining's binary_logloss: 0.0821742\tvalid_1's binary_logloss: 0.268671\n",
      "[50]\ttraining's binary_logloss: 0.0789991\tvalid_1's binary_logloss: 0.267587\n",
      "[51]\ttraining's binary_logloss: 0.0761072\tvalid_1's binary_logloss: 0.26626\n",
      "[52]\ttraining's binary_logloss: 0.0732567\tvalid_1's binary_logloss: 0.265542\n",
      "[53]\ttraining's binary_logloss: 0.0706388\tvalid_1's binary_logloss: 0.264547\n",
      "[54]\ttraining's binary_logloss: 0.0683911\tvalid_1's binary_logloss: 0.26502\n",
      "[55]\ttraining's binary_logloss: 0.0659347\tvalid_1's binary_logloss: 0.264388\n",
      "[56]\ttraining's binary_logloss: 0.0636873\tvalid_1's binary_logloss: 0.263128\n",
      "[57]\ttraining's binary_logloss: 0.0613354\tvalid_1's binary_logloss: 0.26231\n",
      "[58]\ttraining's binary_logloss: 0.0591944\tvalid_1's binary_logloss: 0.262011\n",
      "[59]\ttraining's binary_logloss: 0.057033\tvalid_1's binary_logloss: 0.261454\n",
      "[60]\ttraining's binary_logloss: 0.0550801\tvalid_1's binary_logloss: 0.260746\n",
      "[61]\ttraining's binary_logloss: 0.0532381\tvalid_1's binary_logloss: 0.260236\n",
      "[62]\ttraining's binary_logloss: 0.0514074\tvalid_1's binary_logloss: 0.261586\n",
      "[63]\ttraining's binary_logloss: 0.0494837\tvalid_1's binary_logloss: 0.261797\n",
      "[64]\ttraining's binary_logloss: 0.0477826\tvalid_1's binary_logloss: 0.262533\n",
      "[65]\ttraining's binary_logloss: 0.0460364\tvalid_1's binary_logloss: 0.263305\n",
      "[66]\ttraining's binary_logloss: 0.0444552\tvalid_1's binary_logloss: 0.264072\n",
      "[67]\ttraining's binary_logloss: 0.0427638\tvalid_1's binary_logloss: 0.266223\n",
      "[68]\ttraining's binary_logloss: 0.0412449\tvalid_1's binary_logloss: 0.266817\n",
      "[69]\ttraining's binary_logloss: 0.0398589\tvalid_1's binary_logloss: 0.267819\n",
      "[70]\ttraining's binary_logloss: 0.0383095\tvalid_1's binary_logloss: 0.267484\n",
      "[71]\ttraining's binary_logloss: 0.0368803\tvalid_1's binary_logloss: 0.270233\n",
      "[72]\ttraining's binary_logloss: 0.0355637\tvalid_1's binary_logloss: 0.268442\n",
      "[73]\ttraining's binary_logloss: 0.0341747\tvalid_1's binary_logloss: 0.26895\n",
      "[74]\ttraining's binary_logloss: 0.0328302\tvalid_1's binary_logloss: 0.266958\n",
      "[75]\ttraining's binary_logloss: 0.0317853\tvalid_1's binary_logloss: 0.268091\n",
      "[76]\ttraining's binary_logloss: 0.0305626\tvalid_1's binary_logloss: 0.266419\n",
      "[77]\ttraining's binary_logloss: 0.0295001\tvalid_1's binary_logloss: 0.268588\n",
      "[78]\ttraining's binary_logloss: 0.0284699\tvalid_1's binary_logloss: 0.270964\n",
      "[79]\ttraining's binary_logloss: 0.0273953\tvalid_1's binary_logloss: 0.270293\n",
      "[80]\ttraining's binary_logloss: 0.0264668\tvalid_1's binary_logloss: 0.270523\n",
      "[81]\ttraining's binary_logloss: 0.0254636\tvalid_1's binary_logloss: 0.270683\n",
      "[82]\ttraining's binary_logloss: 0.0245911\tvalid_1's binary_logloss: 0.273187\n",
      "[83]\ttraining's binary_logloss: 0.0236486\tvalid_1's binary_logloss: 0.275994\n",
      "[84]\ttraining's binary_logloss: 0.0228047\tvalid_1's binary_logloss: 0.274053\n",
      "[85]\ttraining's binary_logloss: 0.0221693\tvalid_1's binary_logloss: 0.273211\n",
      "[86]\ttraining's binary_logloss: 0.0213043\tvalid_1's binary_logloss: 0.272626\n",
      "[87]\ttraining's binary_logloss: 0.0203934\tvalid_1's binary_logloss: 0.27534\n",
      "[88]\ttraining's binary_logloss: 0.0195552\tvalid_1's binary_logloss: 0.276228\n",
      "[89]\ttraining's binary_logloss: 0.0188623\tvalid_1's binary_logloss: 0.27525\n",
      "[90]\ttraining's binary_logloss: 0.0183664\tvalid_1's binary_logloss: 0.276485\n",
      "[91]\ttraining's binary_logloss: 0.0176788\tvalid_1's binary_logloss: 0.277052\n",
      "[92]\ttraining's binary_logloss: 0.0170059\tvalid_1's binary_logloss: 0.277686\n",
      "[93]\ttraining's binary_logloss: 0.0164317\tvalid_1's binary_logloss: 0.275332\n",
      "[94]\ttraining's binary_logloss: 0.015878\tvalid_1's binary_logloss: 0.276236\n",
      "[95]\ttraining's binary_logloss: 0.0152959\tvalid_1's binary_logloss: 0.274538\n",
      "[96]\ttraining's binary_logloss: 0.0147216\tvalid_1's binary_logloss: 0.275244\n",
      "[97]\ttraining's binary_logloss: 0.0141758\tvalid_1's binary_logloss: 0.275829\n",
      "[98]\ttraining's binary_logloss: 0.0136551\tvalid_1's binary_logloss: 0.276654\n",
      "[99]\ttraining's binary_logloss: 0.0131585\tvalid_1's binary_logloss: 0.277859\n",
      "[100]\ttraining's binary_logloss: 0.0126961\tvalid_1's binary_logloss: 0.279265\n",
      "[101]\ttraining's binary_logloss: 0.0122421\tvalid_1's binary_logloss: 0.276695\n",
      "[102]\ttraining's binary_logloss: 0.0118067\tvalid_1's binary_logloss: 0.278488\n",
      "[103]\ttraining's binary_logloss: 0.0113994\tvalid_1's binary_logloss: 0.278932\n",
      "[104]\ttraining's binary_logloss: 0.0109799\tvalid_1's binary_logloss: 0.280997\n",
      "[105]\ttraining's binary_logloss: 0.0105953\tvalid_1's binary_logloss: 0.281454\n",
      "[106]\ttraining's binary_logloss: 0.0102381\tvalid_1's binary_logloss: 0.282058\n",
      "[107]\ttraining's binary_logloss: 0.00986714\tvalid_1's binary_logloss: 0.279275\n",
      "[108]\ttraining's binary_logloss: 0.00950998\tvalid_1's binary_logloss: 0.281427\n",
      "[109]\ttraining's binary_logloss: 0.00915965\tvalid_1's binary_logloss: 0.280752\n",
      "[110]\ttraining's binary_logloss: 0.00882581\tvalid_1's binary_logloss: 0.282152\n",
      "[111]\ttraining's binary_logloss: 0.00850714\tvalid_1's binary_logloss: 0.280894\n"
     ]
    }
   ],
   "source": [
    "# 패키지\n",
    "from lightgbm import LGBMClassifier as LGBMC\n",
    "# LightGBM\n",
    "lgbm_wrapper = LGBMC(n_estimators = 400,\n",
    "                     learning_rate = 0.05)\n",
    "# early stopping 50\n",
    "evals = [(X_train, Y_train), (X_val, Y_val)]\n",
    "lgbm_wrapper.fit(X_train, Y_train,\n",
    "                 early_stopping_rounds = 50,\n",
    "                 eval_metric = 'logloss',\n",
    "                 eval_set = evals,\n",
    "                 verbose = True)\n",
    "l_pred = lgbm_wrapper.predict(X_test)\n",
    "l_pred_proba = lgbm_wrapper.predict_proba(X_test)[:,1]"
   ]
  },
  {
   "cell_type": "code",
   "execution_count": 31,
   "id": "eac56470",
   "metadata": {},
   "outputs": [
    {
     "name": "stdout",
     "output_type": "stream",
     "text": [
      "오차행렬\n",
      " [[34  3]\n",
      " [ 2 75]]\n",
      "\n",
      "정확도 : 0.9561\n",
      "정밀도 : 0.9615\n",
      "재현율 : 0.9740\n",
      "F1 : 0.9677\n",
      "AUC : 0.9877\n"
     ]
    }
   ],
   "source": [
    "clf_eval(Y_test, l_pred, l_pred_proba)"
   ]
  },
  {
   "cell_type": "code",
   "execution_count": 32,
   "id": "4a6d3436",
   "metadata": {},
   "outputs": [
    {
     "data": {
      "text/plain": [
       "<AxesSubplot:title={'center':'Feature importance'}, xlabel='Feature importance', ylabel='Features'>"
      ]
     },
     "execution_count": 32,
     "metadata": {},
     "output_type": "execute_result"
    },
    {
     "data": {
      "image/png": "[encoded data removed]",
      "text/plain": [
       "<Figure size 720x864 with 1 Axes>"
      ]
     },
     "metadata": {
      "needs_background": "light"
     },
     "output_type": "display_data"
    }
   ],
   "source": [
    "# Feature Importance\n",
    "from lightgbm import plot_importance\n",
    "fig, ax = plt.subplots(figsize=(10, 12))\n",
    "plot_importance(lgbm_wrapper, ax=ax)"
   ]
  }
 ],
 "metadata": {
  "kernelspec": {
   "display_name": "Python 3 (ipykernel)",
   "language": "python",
   "name": "python3"
  },
  "language_info": {
   "codemirror_mode": {
    "name": "ipython",
    "version": 3
   },
   "file_extension": ".py",
   "mimetype": "text/x-python",
   "name": "python",
   "nbconvert_exporter": "python",
   "pygments_lexer": "ipython3",
   "version": "3.9.12"
  }
 },
 "nbformat": 4,
 "nbformat_minor": 5
}
